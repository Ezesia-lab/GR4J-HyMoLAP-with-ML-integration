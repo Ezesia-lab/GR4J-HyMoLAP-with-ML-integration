{
  "cells": [
    {
      "cell_type": "markdown",
      "source": [
        "This notebook trains and tests the HyMoLAP_GR4J_CNN model in the L0123001 catchment. It uses the ReLU activation function and is compiled with the Adam optimizer."
      ],
      "metadata": {
        "id": "mN6L4DuGIZHU"
      }
    },
    {
      "cell_type": "code",
      "execution_count": 9,
      "metadata": {
        "id": "D_KA0L10W_EW"
      },
      "outputs": [],
      "source": [
        "import pandas as pd\n",
        "from pandas import read_csv\n",
        "import numpy as np\n",
        "from numpy import concatenate\n",
        "import math\n",
        "from math import sqrt\n",
        "import random\n",
        "from datetime import datetime, timedelta\n",
        "import matplotlib.dates as mdates\n",
        "from matplotlib import pylab as plt\n",
        "\n",
        "from sklearn.preprocessing import LabelEncoder, MinMaxScaler\n",
        "from sklearn.metrics import mean_squared_error, r2_score\n",
        "from sklearn.model_selection import train_test_split, GridSearchCV\n",
        "\n",
        "from keras.models import Sequential\n",
        "from keras.layers import Dense, Dropout, Conv1D, MaxPooling1D\n",
        "from keras.optimizers import Adam\n",
        "\n",
        "from tensorflow.keras.layers import Flatten\n",
        "\n",
        "import joblib\n",
        "from google.colab import files\n",
        "import matplotlib.dates as mdates\n"
      ]
    },
    {
      "cell_type": "code",
      "source": [
        "import tensorflow as tf\n",
        "\n",
        "seed = 413\n",
        "np.random.seed(seed)\n",
        "random.seed(seed)\n",
        "tf.random.set_seed(seed)\n",
        "\n",
        "# To enforce determinism on operations\n",
        "import os\n",
        "os.environ['TF_DETERMINISTIC_OPS'] = '1'"
      ],
      "metadata": {
        "id": "111Wwl6WVaVX"
      },
      "execution_count": 10,
      "outputs": []
    },
    {
      "cell_type": "code",
      "execution_count": 11,
      "metadata": {
        "colab": {
          "base_uri": "https://localhost:8080/"
        },
        "id": "3Pah970St2Pe",
        "outputId": "890c2006-f8c3-4853-dabe-a4dd8d98db36"
      },
      "outputs": [
        {
          "output_type": "stream",
          "name": "stdout",
          "text": [
            "Drive already mounted at /content/drive; to attempt to forcibly remount, call drive.mount(\"/content/drive\", force_remount=True).\n"
          ]
        }
      ],
      "source": [
        "from google.colab import drive\n",
        "drive.mount('/content/drive')"
      ]
    },
    {
      "cell_type": "code",
      "execution_count": 12,
      "metadata": {
        "id": "tQSsnFIkSkj-",
        "colab": {
          "base_uri": "https://localhost:8080/",
          "height": 206
        },
        "outputId": "f5c52c48-d6c2-47e1-f239-25e74a69b04b"
      },
      "outputs": [
        {
          "output_type": "execute_result",
          "data": {
            "text/plain": [
              "   Unnamed: 0      DatesR     P    T    E      Qls     Qmm\n",
              "0           1  1984-01-01   4.1  0.5  0.2   2640.0  0.6336\n",
              "1           2  1984-01-02  15.9  0.2  0.2   3440.0  0.8256\n",
              "2           3  1984-01-03   0.8  0.9  0.3  12200.0  2.9280\n",
              "3           4  1984-01-04   0.0  0.5  0.3   7600.0  1.8240\n",
              "4           5  1984-01-05   0.0 -1.6  0.1   6250.0  1.5000"
            ],
            "text/html": [
              "\n",
              "  <div id=\"df-60ec5858-1c65-478c-9073-ce5443f43411\" class=\"colab-df-container\">\n",
              "    <div>\n",
              "<style scoped>\n",
              "    .dataframe tbody tr th:only-of-type {\n",
              "        vertical-align: middle;\n",
              "    }\n",
              "\n",
              "    .dataframe tbody tr th {\n",
              "        vertical-align: top;\n",
              "    }\n",
              "\n",
              "    .dataframe thead th {\n",
              "        text-align: right;\n",
              "    }\n",
              "</style>\n",
              "<table border=\"1\" class=\"dataframe\">\n",
              "  <thead>\n",
              "    <tr style=\"text-align: right;\">\n",
              "      <th></th>\n",
              "      <th>Unnamed: 0</th>\n",
              "      <th>DatesR</th>\n",
              "      <th>P</th>\n",
              "      <th>T</th>\n",
              "      <th>E</th>\n",
              "      <th>Qls</th>\n",
              "      <th>Qmm</th>\n",
              "    </tr>\n",
              "  </thead>\n",
              "  <tbody>\n",
              "    <tr>\n",
              "      <th>0</th>\n",
              "      <td>1</td>\n",
              "      <td>1984-01-01</td>\n",
              "      <td>4.1</td>\n",
              "      <td>0.5</td>\n",
              "      <td>0.2</td>\n",
              "      <td>2640.0</td>\n",
              "      <td>0.6336</td>\n",
              "    </tr>\n",
              "    <tr>\n",
              "      <th>1</th>\n",
              "      <td>2</td>\n",
              "      <td>1984-01-02</td>\n",
              "      <td>15.9</td>\n",
              "      <td>0.2</td>\n",
              "      <td>0.2</td>\n",
              "      <td>3440.0</td>\n",
              "      <td>0.8256</td>\n",
              "    </tr>\n",
              "    <tr>\n",
              "      <th>2</th>\n",
              "      <td>3</td>\n",
              "      <td>1984-01-03</td>\n",
              "      <td>0.8</td>\n",
              "      <td>0.9</td>\n",
              "      <td>0.3</td>\n",
              "      <td>12200.0</td>\n",
              "      <td>2.9280</td>\n",
              "    </tr>\n",
              "    <tr>\n",
              "      <th>3</th>\n",
              "      <td>4</td>\n",
              "      <td>1984-01-04</td>\n",
              "      <td>0.0</td>\n",
              "      <td>0.5</td>\n",
              "      <td>0.3</td>\n",
              "      <td>7600.0</td>\n",
              "      <td>1.8240</td>\n",
              "    </tr>\n",
              "    <tr>\n",
              "      <th>4</th>\n",
              "      <td>5</td>\n",
              "      <td>1984-01-05</td>\n",
              "      <td>0.0</td>\n",
              "      <td>-1.6</td>\n",
              "      <td>0.1</td>\n",
              "      <td>6250.0</td>\n",
              "      <td>1.5000</td>\n",
              "    </tr>\n",
              "  </tbody>\n",
              "</table>\n",
              "</div>\n",
              "    <div class=\"colab-df-buttons\">\n",
              "\n",
              "  <div class=\"colab-df-container\">\n",
              "    <button class=\"colab-df-convert\" onclick=\"convertToInteractive('df-60ec5858-1c65-478c-9073-ce5443f43411')\"\n",
              "            title=\"Convert this dataframe to an interactive table.\"\n",
              "            style=\"display:none;\">\n",
              "\n",
              "  <svg xmlns=\"http://www.w3.org/2000/svg\" height=\"24px\" viewBox=\"0 -960 960 960\">\n",
              "    <path d=\"M120-120v-720h720v720H120Zm60-500h600v-160H180v160Zm220 220h160v-160H400v160Zm0 220h160v-160H400v160ZM180-400h160v-160H180v160Zm440 0h160v-160H620v160ZM180-180h160v-160H180v160Zm440 0h160v-160H620v160Z\"/>\n",
              "  </svg>\n",
              "    </button>\n",
              "\n",
              "  <style>\n",
              "    .colab-df-container {\n",
              "      display:flex;\n",
              "      gap: 12px;\n",
              "    }\n",
              "\n",
              "    .colab-df-convert {\n",
              "      background-color: #E8F0FE;\n",
              "      border: none;\n",
              "      border-radius: 50%;\n",
              "      cursor: pointer;\n",
              "      display: none;\n",
              "      fill: #1967D2;\n",
              "      height: 32px;\n",
              "      padding: 0 0 0 0;\n",
              "      width: 32px;\n",
              "    }\n",
              "\n",
              "    .colab-df-convert:hover {\n",
              "      background-color: #E2EBFA;\n",
              "      box-shadow: 0px 1px 2px rgba(60, 64, 67, 0.3), 0px 1px 3px 1px rgba(60, 64, 67, 0.15);\n",
              "      fill: #174EA6;\n",
              "    }\n",
              "\n",
              "    .colab-df-buttons div {\n",
              "      margin-bottom: 4px;\n",
              "    }\n",
              "\n",
              "    [theme=dark] .colab-df-convert {\n",
              "      background-color: #3B4455;\n",
              "      fill: #D2E3FC;\n",
              "    }\n",
              "\n",
              "    [theme=dark] .colab-df-convert:hover {\n",
              "      background-color: #434B5C;\n",
              "      box-shadow: 0px 1px 3px 1px rgba(0, 0, 0, 0.15);\n",
              "      filter: drop-shadow(0px 1px 2px rgba(0, 0, 0, 0.3));\n",
              "      fill: #FFFFFF;\n",
              "    }\n",
              "  </style>\n",
              "\n",
              "    <script>\n",
              "      const buttonEl =\n",
              "        document.querySelector('#df-60ec5858-1c65-478c-9073-ce5443f43411 button.colab-df-convert');\n",
              "      buttonEl.style.display =\n",
              "        google.colab.kernel.accessAllowed ? 'block' : 'none';\n",
              "\n",
              "      async function convertToInteractive(key) {\n",
              "        const element = document.querySelector('#df-60ec5858-1c65-478c-9073-ce5443f43411');\n",
              "        const dataTable =\n",
              "          await google.colab.kernel.invokeFunction('convertToInteractive',\n",
              "                                                    [key], {});\n",
              "        if (!dataTable) return;\n",
              "\n",
              "        const docLinkHtml = 'Like what you see? Visit the ' +\n",
              "          '<a target=\"_blank\" href=https://colab.research.google.com/notebooks/data_table.ipynb>data table notebook</a>'\n",
              "          + ' to learn more about interactive tables.';\n",
              "        element.innerHTML = '';\n",
              "        dataTable['output_type'] = 'display_data';\n",
              "        await google.colab.output.renderOutput(dataTable, element);\n",
              "        const docLink = document.createElement('div');\n",
              "        docLink.innerHTML = docLinkHtml;\n",
              "        element.appendChild(docLink);\n",
              "      }\n",
              "    </script>\n",
              "  </div>\n",
              "\n",
              "\n",
              "    <div id=\"df-ec3a70a1-2574-4db5-a7cf-092b1866fb0b\">\n",
              "      <button class=\"colab-df-quickchart\" onclick=\"quickchart('df-ec3a70a1-2574-4db5-a7cf-092b1866fb0b')\"\n",
              "                title=\"Suggest charts\"\n",
              "                style=\"display:none;\">\n",
              "\n",
              "<svg xmlns=\"http://www.w3.org/2000/svg\" height=\"24px\"viewBox=\"0 0 24 24\"\n",
              "     width=\"24px\">\n",
              "    <g>\n",
              "        <path d=\"M19 3H5c-1.1 0-2 .9-2 2v14c0 1.1.9 2 2 2h14c1.1 0 2-.9 2-2V5c0-1.1-.9-2-2-2zM9 17H7v-7h2v7zm4 0h-2V7h2v10zm4 0h-2v-4h2v4z\"/>\n",
              "    </g>\n",
              "</svg>\n",
              "      </button>\n",
              "\n",
              "<style>\n",
              "  .colab-df-quickchart {\n",
              "      --bg-color: #E8F0FE;\n",
              "      --fill-color: #1967D2;\n",
              "      --hover-bg-color: #E2EBFA;\n",
              "      --hover-fill-color: #174EA6;\n",
              "      --disabled-fill-color: #AAA;\n",
              "      --disabled-bg-color: #DDD;\n",
              "  }\n",
              "\n",
              "  [theme=dark] .colab-df-quickchart {\n",
              "      --bg-color: #3B4455;\n",
              "      --fill-color: #D2E3FC;\n",
              "      --hover-bg-color: #434B5C;\n",
              "      --hover-fill-color: #FFFFFF;\n",
              "      --disabled-bg-color: #3B4455;\n",
              "      --disabled-fill-color: #666;\n",
              "  }\n",
              "\n",
              "  .colab-df-quickchart {\n",
              "    background-color: var(--bg-color);\n",
              "    border: none;\n",
              "    border-radius: 50%;\n",
              "    cursor: pointer;\n",
              "    display: none;\n",
              "    fill: var(--fill-color);\n",
              "    height: 32px;\n",
              "    padding: 0;\n",
              "    width: 32px;\n",
              "  }\n",
              "\n",
              "  .colab-df-quickchart:hover {\n",
              "    background-color: var(--hover-bg-color);\n",
              "    box-shadow: 0 1px 2px rgba(60, 64, 67, 0.3), 0 1px 3px 1px rgba(60, 64, 67, 0.15);\n",
              "    fill: var(--button-hover-fill-color);\n",
              "  }\n",
              "\n",
              "  .colab-df-quickchart-complete:disabled,\n",
              "  .colab-df-quickchart-complete:disabled:hover {\n",
              "    background-color: var(--disabled-bg-color);\n",
              "    fill: var(--disabled-fill-color);\n",
              "    box-shadow: none;\n",
              "  }\n",
              "\n",
              "  .colab-df-spinner {\n",
              "    border: 2px solid var(--fill-color);\n",
              "    border-color: transparent;\n",
              "    border-bottom-color: var(--fill-color);\n",
              "    animation:\n",
              "      spin 1s steps(1) infinite;\n",
              "  }\n",
              "\n",
              "  @keyframes spin {\n",
              "    0% {\n",
              "      border-color: transparent;\n",
              "      border-bottom-color: var(--fill-color);\n",
              "      border-left-color: var(--fill-color);\n",
              "    }\n",
              "    20% {\n",
              "      border-color: transparent;\n",
              "      border-left-color: var(--fill-color);\n",
              "      border-top-color: var(--fill-color);\n",
              "    }\n",
              "    30% {\n",
              "      border-color: transparent;\n",
              "      border-left-color: var(--fill-color);\n",
              "      border-top-color: var(--fill-color);\n",
              "      border-right-color: var(--fill-color);\n",
              "    }\n",
              "    40% {\n",
              "      border-color: transparent;\n",
              "      border-right-color: var(--fill-color);\n",
              "      border-top-color: var(--fill-color);\n",
              "    }\n",
              "    60% {\n",
              "      border-color: transparent;\n",
              "      border-right-color: var(--fill-color);\n",
              "    }\n",
              "    80% {\n",
              "      border-color: transparent;\n",
              "      border-right-color: var(--fill-color);\n",
              "      border-bottom-color: var(--fill-color);\n",
              "    }\n",
              "    90% {\n",
              "      border-color: transparent;\n",
              "      border-bottom-color: var(--fill-color);\n",
              "    }\n",
              "  }\n",
              "</style>\n",
              "\n",
              "      <script>\n",
              "        async function quickchart(key) {\n",
              "          const quickchartButtonEl =\n",
              "            document.querySelector('#' + key + ' button');\n",
              "          quickchartButtonEl.disabled = true;  // To prevent multiple clicks.\n",
              "          quickchartButtonEl.classList.add('colab-df-spinner');\n",
              "          try {\n",
              "            const charts = await google.colab.kernel.invokeFunction(\n",
              "                'suggestCharts', [key], {});\n",
              "          } catch (error) {\n",
              "            console.error('Error during call to suggestCharts:', error);\n",
              "          }\n",
              "          quickchartButtonEl.classList.remove('colab-df-spinner');\n",
              "          quickchartButtonEl.classList.add('colab-df-quickchart-complete');\n",
              "        }\n",
              "        (() => {\n",
              "          let quickchartButtonEl =\n",
              "            document.querySelector('#df-ec3a70a1-2574-4db5-a7cf-092b1866fb0b button');\n",
              "          quickchartButtonEl.style.display =\n",
              "            google.colab.kernel.accessAllowed ? 'block' : 'none';\n",
              "        })();\n",
              "      </script>\n",
              "    </div>\n",
              "\n",
              "    </div>\n",
              "  </div>\n"
            ],
            "application/vnd.google.colaboratory.intrinsic+json": {
              "type": "dataframe",
              "variable_name": "daily",
              "summary": "{\n  \"name\": \"daily\",\n  \"rows\": 10593,\n  \"fields\": [\n    {\n      \"column\": \"Unnamed: 0\",\n      \"properties\": {\n        \"dtype\": \"number\",\n        \"std\": 3058,\n        \"min\": 1,\n        \"max\": 10593,\n        \"num_unique_values\": 10593,\n        \"samples\": [\n          8100,\n          9690,\n          1794\n        ],\n        \"semantic_type\": \"\",\n        \"description\": \"\"\n      }\n    },\n    {\n      \"column\": \"DatesR\",\n      \"properties\": {\n        \"dtype\": \"object\",\n        \"num_unique_values\": 10593,\n        \"samples\": [\n          \"2006-03-05\",\n          \"2010-07-12\",\n          \"1988-11-28\"\n        ],\n        \"semantic_type\": \"\",\n        \"description\": \"\"\n      }\n    },\n    {\n      \"column\": \"P\",\n      \"properties\": {\n        \"dtype\": \"number\",\n        \"std\": 5.518612112923328,\n        \"min\": 0.0,\n        \"max\": 66.8,\n        \"num_unique_values\": 329,\n        \"samples\": [\n          11.7,\n          20.5,\n          26.4\n        ],\n        \"semantic_type\": \"\",\n        \"description\": \"\"\n      }\n    },\n    {\n      \"column\": \"T\",\n      \"properties\": {\n        \"dtype\": \"number\",\n        \"std\": 6.858323172512816,\n        \"min\": -18.7,\n        \"max\": 28.4,\n        \"num_unique_values\": 374,\n        \"samples\": [\n          -10.9,\n          2.9,\n          2.4\n        ],\n        \"semantic_type\": \"\",\n        \"description\": \"\"\n      }\n    },\n    {\n      \"column\": \"E\",\n      \"properties\": {\n        \"dtype\": \"number\",\n        \"std\": 1.3274622573135193,\n        \"min\": 0.0,\n        \"max\": 5.5,\n        \"num_unique_values\": 55,\n        \"samples\": [\n          3.6,\n          0.0,\n          2.7\n        ],\n        \"semantic_type\": \"\",\n        \"description\": \"\"\n      }\n    },\n    {\n      \"column\": \"Qls\",\n      \"properties\": {\n        \"dtype\": \"number\",\n        \"std\": 6954.965803824725,\n        \"min\": 70.0,\n        \"max\": 99500.0,\n        \"num_unique_values\": 2869,\n        \"samples\": [\n          830.0,\n          15547.0,\n          9531.0\n        ],\n        \"semantic_type\": \"\",\n        \"description\": \"\"\n      }\n    },\n    {\n      \"column\": \"Qmm\",\n      \"properties\": {\n        \"dtype\": \"number\",\n        \"std\": 1.671244142172341,\n        \"min\": 0.0168,\n        \"max\": 23.88,\n        \"num_unique_values\": 2869,\n        \"samples\": [\n          0.1992,\n          3.73128,\n          2.28744\n        ],\n        \"semantic_type\": \"\",\n        \"description\": \"\"\n      }\n    }\n  ]\n}"
            }
          },
          "metadata": {},
          "execution_count": 12
        }
      ],
      "source": [
        "daily = pd.read_csv('/content/drive/MyDrive/Colab Notebooks/Alone/airGR_L0123001.csv')\n",
        "\n",
        "daily.head()"
      ]
    },
    {
      "cell_type": "code",
      "source": [
        "#Calibration data\n",
        "discharge = daily.iloc[5114:7671, -1].to_numpy()\n",
        "plui = daily.iloc[5114:7671, 2].to_numpy()\n",
        "etp = daily.iloc[5114:7671, 4].to_numpy()\n",
        "\n",
        "#Validation data\n",
        "discharge1 = daily.iloc[7671:8766, -1].to_numpy()\n",
        "plui1 = daily.iloc[7671:8766, 2].to_numpy()\n",
        "etp1 = daily.iloc[7671:8766, 4].to_numpy()"
      ],
      "metadata": {
        "id": "gFoY412RGK_S"
      },
      "execution_count": 13,
      "outputs": []
    },
    {
      "cell_type": "code",
      "execution_count": 14,
      "metadata": {
        "id": "s4v9WPnl5GH4"
      },
      "outputs": [],
      "source": [
        "#NSE, RMSE, R2\n",
        "def nash_sutcliffe_efficiency(observed, simulated):\n",
        "    obs_mean = np.mean(observed)\n",
        "    numerator = np.sum((observed - simulated) ** 2)\n",
        "    denominator = np.sum((observed - obs_mean) ** 2)\n",
        "\n",
        "    nse = 1 - (numerator / denominator)\n",
        "    return nse\n",
        "\n",
        "def calculate_rmse(observed, predicted):\n",
        "\n",
        "    rmse = np.sqrt(np.mean((observed - predicted)**2))\n",
        "    return rmse\n",
        "\n",
        "def calculate_r2(observed, predicted):\n",
        "\n",
        "    mean_observed = np.mean(observed)\n",
        "    mean_predicted = np.mean(predicted)\n",
        "\n",
        "    numerator = np.sum((observed - mean_observed) * (predicted - mean_predicted))\n",
        "    denominator = np.sqrt(np.sum((observed - mean_observed)**2)) * np.sqrt(np.sum((predicted - mean_predicted)**2))\n",
        "\n",
        "    r2 = (numerator / denominator)**2\n",
        "    return r2\n"
      ]
    },
    {
      "cell_type": "markdown",
      "metadata": {
        "id": "tLTzAM8v2I2U"
      },
      "source": [
        "GR4J-HyMoLAP"
      ]
    },
    {
      "cell_type": "code",
      "execution_count": 15,
      "metadata": {
        "id": "fNoY9kGaztyF"
      },
      "outputs": [],
      "source": [
        "#Percolation\n",
        "\n",
        "def Percolation(Pn, En, X1):\n",
        "   n = len(Pn)\n",
        "   S = np.zeros(n)\n",
        "   S[0] =  Pn[0]\n",
        "\n",
        "   Perc = np.zeros(n)\n",
        "   ratio = (4.0 / 9.0) * (S[0] / X1)\n",
        "   Perc[0] = S[0] * (1 - (1 + ratio**4) ** (-0.25))\n",
        "\n",
        "   Pr = np.zeros(n)\n",
        "   Pr[0] = Perc[0] + Pn[0]\n",
        "\n",
        "   for i in range(1, n):\n",
        "        temp = (S[i-1] / X1) ** 2\n",
        "        frac = Pn[i] / X1\n",
        "        Ps = X1 * (1 - temp) * np.tanh(frac) / (1 + (S[i-1] / X1) * np.tanh(frac))\n",
        "\n",
        "        frac = En[i] / X1\n",
        "        Es = S[i-1] * (2 - S[i-1] / X1) * np.tanh(frac) / (1 + (1 - S[i-1] / X1) * np.tanh(frac))\n",
        "\n",
        "        S[i] = S[i-1] + Ps - Es\n",
        "\n",
        "        ratio = (4.0 / 9.0) * (S[i] / X1)\n",
        "        Perc[i] = S[i] * (1 - (1 + ratio**4) ** (-0.25))\n",
        "\n",
        "        Pr[i] = Perc[i] + Pn[i] - Ps\n",
        "\n",
        "   return Perc"
      ]
    },
    {
      "cell_type": "code",
      "execution_count": 16,
      "metadata": {
        "colab": {
          "base_uri": "https://localhost:8080/"
        },
        "id": "DYlOGMC6Kf-l",
        "outputId": "8f87e08c-5090-46d4-8504-d79c1c619fa5"
      },
      "outputs": [
        {
          "output_type": "stream",
          "name": "stdout",
          "text": [
            "0.6708540197644917\n"
          ]
        }
      ],
      "source": [
        "#  model calibration : Here we chose the below ranges and then the optimal values found were:  mu = 0.9756486900089809, lambda_ = 6.261137845168766, X1 = 99.62821160899779,\n",
        "# following the same calibration process with the HyMoLAP above.\n",
        "Pn = plui - etp\n",
        "Pn[Pn < 0] = 0\n",
        "\n",
        "En = etp - plui\n",
        "En[En < 0] = 0\n",
        "\n",
        "nse = -100\n",
        "Qsim = np.zeros(len(discharge))\n",
        "Qsim[0] = discharge[0]\n",
        "Q1 = np.zeros(len(discharge))\n",
        "\n",
        "for pp in range(1):\n",
        "      mu = 0.9756486900089809 #(1.4 - 0.5) * np.random.rand() + 0.5\n",
        "      lambda_ = 6.261137845168766 #(10 - 1) * np.random.rand() + 1\n",
        "      X1 = 99.62821160899779 #(100 - 70) * np.random.rand() + 70\n",
        "\n",
        "      Perc = Percolation(Pn, En, X1)\n",
        "\n",
        "      for k in range(0, len(discharge)-1):\n",
        "\n",
        "          Qsim[k+1] = Qsim[k] - (mu/lambda_) * Qsim[k]**(2*mu-1) +  (1/lambda_) * Perc[k] * Pn[k]\n",
        "\n",
        "      #Nsh criteria\n",
        "      nsee =  nash_sutcliffe_efficiency(discharge[1:], Qsim[1:])\n",
        "      if nsee > nse:\n",
        "          nse = nsee\n",
        "          mu1 = mu\n",
        "          lambda1 = lambda_\n",
        "          X11 = X1\n",
        "          GR4J_HyM = Qsim.copy()\n",
        "\n",
        "\n",
        "print(nse)"
      ]
    },
    {
      "cell_type": "code",
      "execution_count": 17,
      "metadata": {
        "colab": {
          "base_uri": "https://localhost:8080/"
        },
        "id": "WQT0oZlZKTOV",
        "outputId": "b07a5b00-ac82-4911-8858-4cb57e1c0099"
      },
      "outputs": [
        {
          "output_type": "stream",
          "name": "stdout",
          "text": [
            "0.9756486900089809\n",
            "6.261137845168766\n",
            "99.62821160899779\n"
          ]
        }
      ],
      "source": [
        "print(mu1)\n",
        "print(lambda1)\n",
        "print(X11)"
      ]
    },
    {
      "cell_type": "markdown",
      "metadata": {
        "id": "UtDlxiOJVe5k"
      },
      "source": []
    },
    {
      "cell_type": "code",
      "execution_count": 18,
      "metadata": {
        "colab": {
          "base_uri": "https://localhost:8080/"
        },
        "id": "flFAtLbd5UqX",
        "outputId": "40865f9b-7e8c-446a-cc2d-b588d2935b4e"
      },
      "outputs": [
        {
          "output_type": "stream",
          "name": "stdout",
          "text": [
            "nashe= 0.6708540197644917\n",
            "rmse= 0.8935489568574768\n",
            "r2= 0.7273633888404886\n"
          ]
        }
      ],
      "source": [
        "print('nashe=',nash_sutcliffe_efficiency(discharge[1:],  GR4J_HyM[1:]))\n",
        "print('rmse=',calculate_rmse(discharge[1:],  GR4J_HyM[1:]))\n",
        "print('r2=',calculate_r2(discharge[1:],  GR4J_HyM[1:]))"
      ]
    },
    {
      "cell_type": "markdown",
      "metadata": {
        "id": "b_wWU3zhitj9"
      },
      "source": [
        "Validation"
      ]
    },
    {
      "cell_type": "code",
      "execution_count": 19,
      "metadata": {
        "id": "M5eHKntK1FVp"
      },
      "outputs": [],
      "source": [
        "Pn1 = plui1 - etp1\n",
        "Pn1[Pn1 < 0] = 0\n",
        "\n",
        "En1 = etp1 - plui1\n",
        "En1[En1 < 0] = 0"
      ]
    },
    {
      "cell_type": "code",
      "execution_count": 21,
      "metadata": {
        "id": "-mhlP1IDjYkj"
      },
      "outputs": [],
      "source": [
        "# Simulation\n",
        "size = len(discharge1)\n",
        "Perc1 = Percolation(Pn1, En1, X11)\n",
        "\n",
        "#EQUATION\n",
        "Qval = np.zeros(size)\n",
        "Qval[0] = discharge1[0]\n",
        "\n",
        "for k in range(0, size-1):\n",
        "\n",
        "    Qval[k+1] = Qval[k] - (mu1/lambda1) * Qval[k]**(2*mu1-1) +  (1/lambda1) * Perc1[k] * Pn1[k]"
      ]
    },
    {
      "cell_type": "code",
      "execution_count": 22,
      "metadata": {
        "colab": {
          "base_uri": "https://localhost:8080/",
          "height": 357
        },
        "id": "w4mrtNeYjuM6",
        "outputId": "19dc3a3b-3453-49e2-9080-e24af5936f9d"
      },
      "outputs": [
        {
          "output_type": "display_data",
          "data": {
            "text/plain": [
              "<Figure size 1100x350 with 1 Axes>"
            ],
            "image/png": "[encoded data removed]"
          },
          "metadata": {}
        }
      ],
      "source": [
        "# Generate dates\n",
        "time1 = np.datetime64('2005-01-01')\n",
        "time2 = np.datetime64('2007-12-31')\n",
        "time = np.arange(time1, time2 + np.timedelta64(1, 'D'), dtype='datetime64[D]')\n",
        "\n",
        "# Create a figure and an axis\n",
        "fig, ax = plt.subplots(figsize=(11., 3.5))\n",
        "\n",
        "# Background color\n",
        "fig.patch.set_facecolor('#f0f0f0')\n",
        "ax.set_facecolor('#f0f0f0')\n",
        "\n",
        "# Plot observed and simulated discharges\n",
        "ax.plot(time, discharge1, 'b', label='Observation', linewidth=1.5)\n",
        "#ax.plot(time, Qval_HyM, 'green', label='HyMoLAP', linewidth=1.5)\n",
        "ax.plot(time, Qval, 'red', label='GR4J-HyMoLAP', linewidth=1.5)\n",
        "#ax.plot(time, mean_trajectory1, 'red', label='GR4J-HyMoLAP', linewidth=1.5)\n",
        "\n",
        "# X-axis parameters (date format)\n",
        "ax.xaxis.set_major_formatter(mdates.DateFormatter('%Y-%m'))\n",
        "ax.xaxis.set_major_locator(mdates.MonthLocator(bymonth=[1, 7]))\n",
        "plt.xticks(rotation=45)\n",
        "ax.set_xlabel('Date [day]')\n",
        "\n",
        "# Y-axis parameters\n",
        "ax.set_ylabel('Runoff [mm/day]')\n",
        "ax.tick_params(axis='y', labelcolor='black')\n",
        "ax.set_ylim(-1, 15)\n",
        "ax.set_yticks(np.arange(0, 16, 5))\n",
        "\n",
        "# Add legend\n",
        "ax.legend(loc='upper left')\n",
        "\n",
        "# Show grid\n",
        "#plt.grid(True)\n",
        "\n",
        "# Avoid overlaps\n",
        "plt.tight_layout()\n",
        "\n",
        "# Save figure\n",
        "plt.savefig(\"hyM_save_val2.jpeg\", format='jpeg', dpi=500)\n",
        "\n",
        "# Save figure again with different name and dpi\n",
        "plt.savefig(\"airGR_L0123001_GR4J-HyMoLAP.jpeg\", format='jpeg', dpi=700)\n",
        "\n",
        "#files.download(\"airGR_L0123001_GR4J-HyMoLAP.jpeg\")\n",
        "\n",
        "# Display figure\n",
        "plt.show()\n"
      ]
    },
    {
      "cell_type": "code",
      "execution_count": 23,
      "metadata": {
        "colab": {
          "base_uri": "https://localhost:8080/"
        },
        "id": "SVWNxJN8LVp2",
        "outputId": "5f06bf21-f24f-450f-c772-5fd2930cd918"
      },
      "outputs": [
        {
          "output_type": "stream",
          "name": "stdout",
          "text": [
            "Nash-Sutcliffe Efficiency (NSE): 0.8324726667854867\n",
            "rmse= 0.5458726450387722\n",
            "r2= 0.8806127591849476\n"
          ]
        }
      ],
      "source": [
        "#Performance\n",
        "nse_value = nash_sutcliffe_efficiency(discharge1, Qval)\n",
        "print(\"Nash-Sutcliffe Efficiency (NSE):\", nse_value)\n",
        "\n",
        "rmse = calculate_rmse(discharge1, Qval)\n",
        "print('rmse=', rmse)\n",
        "\n",
        "r2 = calculate_r2(discharge1, Qval)\n",
        "print('r2=', r2)"
      ]
    },
    {
      "cell_type": "markdown",
      "metadata": {
        "id": "odMbPwjOn486"
      },
      "source": [
        "Hybrid HyMoLAP_GR4J_CNN."
      ]
    },
    {
      "cell_type": "code",
      "execution_count": 24,
      "metadata": {
        "id": "9KZs1_zdrDMd"
      },
      "outputs": [],
      "source": [
        "def split_train_test(values, n_train_hours = 1460):\n",
        "    # Split the data into train (use values before n_train_hours) and test sets (use values after n_train_hours)\n",
        "    train = values[:n_train_hours, :]\n",
        "    test = values[n_train_hours:, :]\n",
        "    # split into input and outputs\n",
        "    train_X, train_y = train[:, :-1], train[:, -1]\n",
        "    test_X, test_y = test[:, :-1], test[:, -1]\n",
        "    # reshape input to be 3D [samples, timesteps, features] required for LSTM\n",
        "    train_X = train_X.reshape((train_X.shape[0], 1, train_X.shape[1]))\n",
        "    test_X = test_X.reshape((test_X.shape[0], 1, test_X.shape[1]))\n",
        "\n",
        "    print(train_X.shape, train_y.shape, test_X.shape, test_y.shape)\n",
        "    return train_X, train_y, test_X, test_y"
      ]
    },
    {
      "cell_type": "code",
      "execution_count": 25,
      "metadata": {
        "id": "5wAPYa_wrHuU"
      },
      "outputs": [],
      "source": [
        "def history_and_horizon_sequencing(df, n_history, n_horizon, target='debits'):\n",
        "    # Separate inputs (e.g., precipitation, PET) from targets (e.g., discharge)\n",
        "    input_columns = [col for col in df.columns if col != target]\n",
        "    df_inputs = df[input_columns]\n",
        "    df_target = df[target].to_frame()\n",
        "\n",
        "    # History: past sequences (t-n, ... t-1) for inputs (e.g., precipitation, ETP)\n",
        "    stack_history = []\n",
        "    for i in range(n_history, 0, -1):\n",
        "        df_i = df_inputs.shift(i)\n",
        "        df_i.columns = [f'{col}_t-{i}' for col in df_i.columns]\n",
        "        stack_history.append(df_i)\n",
        "\n",
        "    # Present: t for inputs\n",
        "    df_t = df_inputs.copy()\n",
        "    df_t.columns = [f'{col}_t' for col in df_t.columns]\n",
        "\n",
        "    # Horizon: future sequences (t+1, ... t+n) for targets (e.g., discharge)\n",
        "    stack_horizon = []\n",
        "    for j in range(0, n_horizon):\n",
        "        df_j = df_target.shift(-j)\n",
        "        df_j.columns = [f'{col}_t+{j}' for col in df_j.columns]\n",
        "        stack_horizon.append(df_j)\n",
        "\n",
        "    # Return the concatenated DataFrame: past + present + future (inputs and targets)\n",
        "    return pd.concat(stack_history + [df_t] + stack_horizon, axis=1)"
      ]
    },
    {
      "cell_type": "code",
      "execution_count": 26,
      "metadata": {
        "id": "SzGQQEN7mArY"
      },
      "outputs": [],
      "source": [
        "# Create DataFrame for training (calibration)\n",
        "data_train = pd.DataFrame({\n",
        "    'perc': Perc,\n",
        "    'Qsim': GR4J_HyM,\n",
        "    'prec': plui,\n",
        "    'pet': etp,\n",
        "\n",
        "    'target': discharge\n",
        "})\n",
        "\n",
        "# Create DataFrame for validation (test)\n",
        "data_test = pd.DataFrame({\n",
        "    'perc': Perc1,\n",
        "    'Qsim': Qval,\n",
        "    'prec': plui1,\n",
        "    'pet': etp1,\n",
        "\n",
        "    'target': discharge1\n",
        "})\n",
        "\n",
        "# Concatenate the two DataFrames (calibration + validation)\n",
        "data = pd.concat([data_train, data_test], ignore_index=True)\n"
      ]
    },
    {
      "cell_type": "code",
      "source": [
        "#Include look_back\n",
        "look_back = 0\n",
        "horizon = 1     # To correspond to the same day (t) as the inputs\n",
        "\n",
        "data_Xy = history_and_horizon_sequencing(data, look_back, horizon, target='target')\n",
        "data_Xy.dropna(inplace=True)\n",
        "\n",
        "\n",
        "#split data\n",
        "train_X, train_y, test_X, test_y = split_train_test(data_Xy.values, 2557)\n"
      ],
      "metadata": {
        "colab": {
          "base_uri": "https://localhost:8080/"
        },
        "id": "5A5zoUGBnzvd",
        "outputId": "a9a1ca83-81cf-4e73-a6c2-faf6404ad714"
      },
      "execution_count": 27,
      "outputs": [
        {
          "output_type": "stream",
          "name": "stdout",
          "text": [
            "(2557, 1, 4) (2557,) (1095, 1, 4) (1095,)\n"
          ]
        }
      ]
    },
    {
      "cell_type": "code",
      "source": [
        "data_Xy"
      ],
      "metadata": {
        "colab": {
          "base_uri": "https://localhost:8080/",
          "height": 423
        },
        "id": "QhKVMiklolSC",
        "outputId": "09b182a1-0c8f-4b1a-d5c2-2a0bddc77a32"
      },
      "execution_count": 28,
      "outputs": [
        {
          "output_type": "execute_result",
          "data": {
            "text/plain": [
              "            perc_t    Qsim_t  prec_t  pet_t  target_t+0\n",
              "0     5.102629e-09  0.314400     2.4    0.2     0.31440\n",
              "1     2.403751e-08  0.262568     1.3    0.5     0.31440\n",
              "2     7.547647e-06  0.218900     6.9    0.4     0.31440\n",
              "3     2.405377e-05  0.182178     2.6    0.1     0.29040\n",
              "4     1.973808e-04  0.151345     6.6    0.2     0.29040\n",
              "...            ...       ...     ...    ...         ...\n",
              "3647  6.844246e-01  3.139731     0.3    0.0     2.22240\n",
              "3648  6.924263e-01  2.709789     1.9    0.1     1.83816\n",
              "3649  7.057462e-01  2.506608     3.3    0.2     1.84512\n",
              "3650  7.359943e-01  2.482536     8.0    0.4     1.58712\n",
              "3651  7.833256e-01  3.005826    14.5    0.5     2.63496\n",
              "\n",
              "[3652 rows x 5 columns]"
            ],
            "text/html": [
              "\n",
              "  <div id=\"df-809b25e8-8d1b-426d-aa13-fcba36672b8d\" class=\"colab-df-container\">\n",
              "    <div>\n",
              "<style scoped>\n",
              "    .dataframe tbody tr th:only-of-type {\n",
              "        vertical-align: middle;\n",
              "    }\n",
              "\n",
              "    .dataframe tbody tr th {\n",
              "        vertical-align: top;\n",
              "    }\n",
              "\n",
              "    .dataframe thead th {\n",
              "        text-align: right;\n",
              "    }\n",
              "</style>\n",
              "<table border=\"1\" class=\"dataframe\">\n",
              "  <thead>\n",
              "    <tr style=\"text-align: right;\">\n",
              "      <th></th>\n",
              "      <th>perc_t</th>\n",
              "      <th>Qsim_t</th>\n",
              "      <th>prec_t</th>\n",
              "      <th>pet_t</th>\n",
              "      <th>target_t+0</th>\n",
              "    </tr>\n",
              "  </thead>\n",
              "  <tbody>\n",
              "    <tr>\n",
              "      <th>0</th>\n",
              "      <td>5.102629e-09</td>\n",
              "      <td>0.314400</td>\n",
              "      <td>2.4</td>\n",
              "      <td>0.2</td>\n",
              "      <td>0.31440</td>\n",
              "    </tr>\n",
              "    <tr>\n",
              "      <th>1</th>\n",
              "      <td>2.403751e-08</td>\n",
              "      <td>0.262568</td>\n",
              "      <td>1.3</td>\n",
              "      <td>0.5</td>\n",
              "      <td>0.31440</td>\n",
              "    </tr>\n",
              "    <tr>\n",
              "      <th>2</th>\n",
              "      <td>7.547647e-06</td>\n",
              "      <td>0.218900</td>\n",
              "      <td>6.9</td>\n",
              "      <td>0.4</td>\n",
              "      <td>0.31440</td>\n",
              "    </tr>\n",
              "    <tr>\n",
              "      <th>3</th>\n",
              "      <td>2.405377e-05</td>\n",
              "      <td>0.182178</td>\n",
              "      <td>2.6</td>\n",
              "      <td>0.1</td>\n",
              "      <td>0.29040</td>\n",
              "    </tr>\n",
              "    <tr>\n",
              "      <th>4</th>\n",
              "      <td>1.973808e-04</td>\n",
              "      <td>0.151345</td>\n",
              "      <td>6.6</td>\n",
              "      <td>0.2</td>\n",
              "      <td>0.29040</td>\n",
              "    </tr>\n",
              "    <tr>\n",
              "      <th>...</th>\n",
              "      <td>...</td>\n",
              "      <td>...</td>\n",
              "      <td>...</td>\n",
              "      <td>...</td>\n",
              "      <td>...</td>\n",
              "    </tr>\n",
              "    <tr>\n",
              "      <th>3647</th>\n",
              "      <td>6.844246e-01</td>\n",
              "      <td>3.139731</td>\n",
              "      <td>0.3</td>\n",
              "      <td>0.0</td>\n",
              "      <td>2.22240</td>\n",
              "    </tr>\n",
              "    <tr>\n",
              "      <th>3648</th>\n",
              "      <td>6.924263e-01</td>\n",
              "      <td>2.709789</td>\n",
              "      <td>1.9</td>\n",
              "      <td>0.1</td>\n",
              "      <td>1.83816</td>\n",
              "    </tr>\n",
              "    <tr>\n",
              "      <th>3649</th>\n",
              "      <td>7.057462e-01</td>\n",
              "      <td>2.506608</td>\n",
              "      <td>3.3</td>\n",
              "      <td>0.2</td>\n",
              "      <td>1.84512</td>\n",
              "    </tr>\n",
              "    <tr>\n",
              "      <th>3650</th>\n",
              "      <td>7.359943e-01</td>\n",
              "      <td>2.482536</td>\n",
              "      <td>8.0</td>\n",
              "      <td>0.4</td>\n",
              "      <td>1.58712</td>\n",
              "    </tr>\n",
              "    <tr>\n",
              "      <th>3651</th>\n",
              "      <td>7.833256e-01</td>\n",
              "      <td>3.005826</td>\n",
              "      <td>14.5</td>\n",
              "      <td>0.5</td>\n",
              "      <td>2.63496</td>\n",
              "    </tr>\n",
              "  </tbody>\n",
              "</table>\n",
              "<p>3652 rows × 5 columns</p>\n",
              "</div>\n",
              "    <div class=\"colab-df-buttons\">\n",
              "\n",
              "  <div class=\"colab-df-container\">\n",
              "    <button class=\"colab-df-convert\" onclick=\"convertToInteractive('df-809b25e8-8d1b-426d-aa13-fcba36672b8d')\"\n",
              "            title=\"Convert this dataframe to an interactive table.\"\n",
              "            style=\"display:none;\">\n",
              "\n",
              "  <svg xmlns=\"http://www.w3.org/2000/svg\" height=\"24px\" viewBox=\"0 -960 960 960\">\n",
              "    <path d=\"M120-120v-720h720v720H120Zm60-500h600v-160H180v160Zm220 220h160v-160H400v160Zm0 220h160v-160H400v160ZM180-400h160v-160H180v160Zm440 0h160v-160H620v160ZM180-180h160v-160H180v160Zm440 0h160v-160H620v160Z\"/>\n",
              "  </svg>\n",
              "    </button>\n",
              "\n",
              "  <style>\n",
              "    .colab-df-container {\n",
              "      display:flex;\n",
              "      gap: 12px;\n",
              "    }\n",
              "\n",
              "    .colab-df-convert {\n",
              "      background-color: #E8F0FE;\n",
              "      border: none;\n",
              "      border-radius: 50%;\n",
              "      cursor: pointer;\n",
              "      display: none;\n",
              "      fill: #1967D2;\n",
              "      height: 32px;\n",
              "      padding: 0 0 0 0;\n",
              "      width: 32px;\n",
              "    }\n",
              "\n",
              "    .colab-df-convert:hover {\n",
              "      background-color: #E2EBFA;\n",
              "      box-shadow: 0px 1px 2px rgba(60, 64, 67, 0.3), 0px 1px 3px 1px rgba(60, 64, 67, 0.15);\n",
              "      fill: #174EA6;\n",
              "    }\n",
              "\n",
              "    .colab-df-buttons div {\n",
              "      margin-bottom: 4px;\n",
              "    }\n",
              "\n",
              "    [theme=dark] .colab-df-convert {\n",
              "      background-color: #3B4455;\n",
              "      fill: #D2E3FC;\n",
              "    }\n",
              "\n",
              "    [theme=dark] .colab-df-convert:hover {\n",
              "      background-color: #434B5C;\n",
              "      box-shadow: 0px 1px 3px 1px rgba(0, 0, 0, 0.15);\n",
              "      filter: drop-shadow(0px 1px 2px rgba(0, 0, 0, 0.3));\n",
              "      fill: #FFFFFF;\n",
              "    }\n",
              "  </style>\n",
              "\n",
              "    <script>\n",
              "      const buttonEl =\n",
              "        document.querySelector('#df-809b25e8-8d1b-426d-aa13-fcba36672b8d button.colab-df-convert');\n",
              "      buttonEl.style.display =\n",
              "        google.colab.kernel.accessAllowed ? 'block' : 'none';\n",
              "\n",
              "      async function convertToInteractive(key) {\n",
              "        const element = document.querySelector('#df-809b25e8-8d1b-426d-aa13-fcba36672b8d');\n",
              "        const dataTable =\n",
              "          await google.colab.kernel.invokeFunction('convertToInteractive',\n",
              "                                                    [key], {});\n",
              "        if (!dataTable) return;\n",
              "\n",
              "        const docLinkHtml = 'Like what you see? Visit the ' +\n",
              "          '<a target=\"_blank\" href=https://colab.research.google.com/notebooks/data_table.ipynb>data table notebook</a>'\n",
              "          + ' to learn more about interactive tables.';\n",
              "        element.innerHTML = '';\n",
              "        dataTable['output_type'] = 'display_data';\n",
              "        await google.colab.output.renderOutput(dataTable, element);\n",
              "        const docLink = document.createElement('div');\n",
              "        docLink.innerHTML = docLinkHtml;\n",
              "        element.appendChild(docLink);\n",
              "      }\n",
              "    </script>\n",
              "  </div>\n",
              "\n",
              "\n",
              "    <div id=\"df-644273f5-205d-4c45-9ff4-3123ccdacb8a\">\n",
              "      <button class=\"colab-df-quickchart\" onclick=\"quickchart('df-644273f5-205d-4c45-9ff4-3123ccdacb8a')\"\n",
              "                title=\"Suggest charts\"\n",
              "                style=\"display:none;\">\n",
              "\n",
              "<svg xmlns=\"http://www.w3.org/2000/svg\" height=\"24px\"viewBox=\"0 0 24 24\"\n",
              "     width=\"24px\">\n",
              "    <g>\n",
              "        <path d=\"M19 3H5c-1.1 0-2 .9-2 2v14c0 1.1.9 2 2 2h14c1.1 0 2-.9 2-2V5c0-1.1-.9-2-2-2zM9 17H7v-7h2v7zm4 0h-2V7h2v10zm4 0h-2v-4h2v4z\"/>\n",
              "    </g>\n",
              "</svg>\n",
              "      </button>\n",
              "\n",
              "<style>\n",
              "  .colab-df-quickchart {\n",
              "      --bg-color: #E8F0FE;\n",
              "      --fill-color: #1967D2;\n",
              "      --hover-bg-color: #E2EBFA;\n",
              "      --hover-fill-color: #174EA6;\n",
              "      --disabled-fill-color: #AAA;\n",
              "      --disabled-bg-color: #DDD;\n",
              "  }\n",
              "\n",
              "  [theme=dark] .colab-df-quickchart {\n",
              "      --bg-color: #3B4455;\n",
              "      --fill-color: #D2E3FC;\n",
              "      --hover-bg-color: #434B5C;\n",
              "      --hover-fill-color: #FFFFFF;\n",
              "      --disabled-bg-color: #3B4455;\n",
              "      --disabled-fill-color: #666;\n",
              "  }\n",
              "\n",
              "  .colab-df-quickchart {\n",
              "    background-color: var(--bg-color);\n",
              "    border: none;\n",
              "    border-radius: 50%;\n",
              "    cursor: pointer;\n",
              "    display: none;\n",
              "    fill: var(--fill-color);\n",
              "    height: 32px;\n",
              "    padding: 0;\n",
              "    width: 32px;\n",
              "  }\n",
              "\n",
              "  .colab-df-quickchart:hover {\n",
              "    background-color: var(--hover-bg-color);\n",
              "    box-shadow: 0 1px 2px rgba(60, 64, 67, 0.3), 0 1px 3px 1px rgba(60, 64, 67, 0.15);\n",
              "    fill: var(--button-hover-fill-color);\n",
              "  }\n",
              "\n",
              "  .colab-df-quickchart-complete:disabled,\n",
              "  .colab-df-quickchart-complete:disabled:hover {\n",
              "    background-color: var(--disabled-bg-color);\n",
              "    fill: var(--disabled-fill-color);\n",
              "    box-shadow: none;\n",
              "  }\n",
              "\n",
              "  .colab-df-spinner {\n",
              "    border: 2px solid var(--fill-color);\n",
              "    border-color: transparent;\n",
              "    border-bottom-color: var(--fill-color);\n",
              "    animation:\n",
              "      spin 1s steps(1) infinite;\n",
              "  }\n",
              "\n",
              "  @keyframes spin {\n",
              "    0% {\n",
              "      border-color: transparent;\n",
              "      border-bottom-color: var(--fill-color);\n",
              "      border-left-color: var(--fill-color);\n",
              "    }\n",
              "    20% {\n",
              "      border-color: transparent;\n",
              "      border-left-color: var(--fill-color);\n",
              "      border-top-color: var(--fill-color);\n",
              "    }\n",
              "    30% {\n",
              "      border-color: transparent;\n",
              "      border-left-color: var(--fill-color);\n",
              "      border-top-color: var(--fill-color);\n",
              "      border-right-color: var(--fill-color);\n",
              "    }\n",
              "    40% {\n",
              "      border-color: transparent;\n",
              "      border-right-color: var(--fill-color);\n",
              "      border-top-color: var(--fill-color);\n",
              "    }\n",
              "    60% {\n",
              "      border-color: transparent;\n",
              "      border-right-color: var(--fill-color);\n",
              "    }\n",
              "    80% {\n",
              "      border-color: transparent;\n",
              "      border-right-color: var(--fill-color);\n",
              "      border-bottom-color: var(--fill-color);\n",
              "    }\n",
              "    90% {\n",
              "      border-color: transparent;\n",
              "      border-bottom-color: var(--fill-color);\n",
              "    }\n",
              "  }\n",
              "</style>\n",
              "\n",
              "      <script>\n",
              "        async function quickchart(key) {\n",
              "          const quickchartButtonEl =\n",
              "            document.querySelector('#' + key + ' button');\n",
              "          quickchartButtonEl.disabled = true;  // To prevent multiple clicks.\n",
              "          quickchartButtonEl.classList.add('colab-df-spinner');\n",
              "          try {\n",
              "            const charts = await google.colab.kernel.invokeFunction(\n",
              "                'suggestCharts', [key], {});\n",
              "          } catch (error) {\n",
              "            console.error('Error during call to suggestCharts:', error);\n",
              "          }\n",
              "          quickchartButtonEl.classList.remove('colab-df-spinner');\n",
              "          quickchartButtonEl.classList.add('colab-df-quickchart-complete');\n",
              "        }\n",
              "        (() => {\n",
              "          let quickchartButtonEl =\n",
              "            document.querySelector('#df-644273f5-205d-4c45-9ff4-3123ccdacb8a button');\n",
              "          quickchartButtonEl.style.display =\n",
              "            google.colab.kernel.accessAllowed ? 'block' : 'none';\n",
              "        })();\n",
              "      </script>\n",
              "    </div>\n",
              "\n",
              "  <div id=\"id_93d9db9a-b0c1-4056-9937-3aea03b99a84\">\n",
              "    <style>\n",
              "      .colab-df-generate {\n",
              "        background-color: #E8F0FE;\n",
              "        border: none;\n",
              "        border-radius: 50%;\n",
              "        cursor: pointer;\n",
              "        display: none;\n",
              "        fill: #1967D2;\n",
              "        height: 32px;\n",
              "        padding: 0 0 0 0;\n",
              "        width: 32px;\n",
              "      }\n",
              "\n",
              "      .colab-df-generate:hover {\n",
              "        background-color: #E2EBFA;\n",
              "        box-shadow: 0px 1px 2px rgba(60, 64, 67, 0.3), 0px 1px 3px 1px rgba(60, 64, 67, 0.15);\n",
              "        fill: #174EA6;\n",
              "      }\n",
              "\n",
              "      [theme=dark] .colab-df-generate {\n",
              "        background-color: #3B4455;\n",
              "        fill: #D2E3FC;\n",
              "      }\n",
              "\n",
              "      [theme=dark] .colab-df-generate:hover {\n",
              "        background-color: #434B5C;\n",
              "        box-shadow: 0px 1px 3px 1px rgba(0, 0, 0, 0.15);\n",
              "        filter: drop-shadow(0px 1px 2px rgba(0, 0, 0, 0.3));\n",
              "        fill: #FFFFFF;\n",
              "      }\n",
              "    </style>\n",
              "    <button class=\"colab-df-generate\" onclick=\"generateWithVariable('data_Xy')\"\n",
              "            title=\"Generate code using this dataframe.\"\n",
              "            style=\"display:none;\">\n",
              "\n",
              "  <svg xmlns=\"http://www.w3.org/2000/svg\" height=\"24px\"viewBox=\"0 0 24 24\"\n",
              "       width=\"24px\">\n",
              "    <path d=\"M7,19H8.4L18.45,9,17,7.55,7,17.6ZM5,21V16.75L18.45,3.32a2,2,0,0,1,2.83,0l1.4,1.43a1.91,1.91,0,0,1,.58,1.4,1.91,1.91,0,0,1-.58,1.4L9.25,21ZM18.45,9,17,7.55Zm-12,3A5.31,5.31,0,0,0,4.9,8.1,5.31,5.31,0,0,0,1,6.5,5.31,5.31,0,0,0,4.9,4.9,5.31,5.31,0,0,0,6.5,1,5.31,5.31,0,0,0,8.1,4.9,5.31,5.31,0,0,0,12,6.5,5.46,5.46,0,0,0,6.5,12Z\"/>\n",
              "  </svg>\n",
              "    </button>\n",
              "    <script>\n",
              "      (() => {\n",
              "      const buttonEl =\n",
              "        document.querySelector('#id_93d9db9a-b0c1-4056-9937-3aea03b99a84 button.colab-df-generate');\n",
              "      buttonEl.style.display =\n",
              "        google.colab.kernel.accessAllowed ? 'block' : 'none';\n",
              "\n",
              "      buttonEl.onclick = () => {\n",
              "        google.colab.notebook.generateWithVariable('data_Xy');\n",
              "      }\n",
              "      })();\n",
              "    </script>\n",
              "  </div>\n",
              "\n",
              "    </div>\n",
              "  </div>\n"
            ],
            "application/vnd.google.colaboratory.intrinsic+json": {
              "type": "dataframe",
              "variable_name": "data_Xy",
              "summary": "{\n  \"name\": \"data_Xy\",\n  \"rows\": 3652,\n  \"fields\": [\n    {\n      \"column\": \"perc_t\",\n      \"properties\": {\n        \"dtype\": \"number\",\n        \"std\": 0.31182721002724234,\n        \"min\": 0.0,\n        \"max\": 0.9369811154777965,\n        \"num_unique_values\": 3559,\n        \"samples\": [\n          0.8130680557437225,\n          0.00023244429603394784,\n          0.00041824240102636585\n        ],\n        \"semantic_type\": \"\",\n        \"description\": \"\"\n      }\n    },\n    {\n      \"column\": \"Qsim_t\",\n      \"properties\": {\n        \"dtype\": \"number\",\n        \"std\": 1.3677098725665735,\n        \"min\": 8.263868203088461e-06,\n        \"max\": 9.639407925804274,\n        \"num_unique_values\": 3652,\n        \"samples\": [\n          0.004897994887415617,\n          0.008772953523882323,\n          0.04723973632638779\n        ],\n        \"semantic_type\": \"\",\n        \"description\": \"\"\n      }\n    },\n    {\n      \"column\": \"prec_t\",\n      \"properties\": {\n        \"dtype\": \"number\",\n        \"std\": 5.473236120688349,\n        \"min\": 0.0,\n        \"max\": 48.3,\n        \"num_unique_values\": 253,\n        \"samples\": [\n          23.7,\n          4.5,\n          13.7\n        ],\n        \"semantic_type\": \"\",\n        \"description\": \"\"\n      }\n    },\n    {\n      \"column\": \"pet_t\",\n      \"properties\": {\n        \"dtype\": \"number\",\n        \"std\": 1.3486995051663009,\n        \"min\": 0.0,\n        \"max\": 5.5,\n        \"num_unique_values\": 55,\n        \"samples\": [\n          3.8,\n          0.6,\n          4.0\n        ],\n        \"semantic_type\": \"\",\n        \"description\": \"\"\n      }\n    },\n    {\n      \"column\": \"target_t+0\",\n      \"properties\": {\n        \"dtype\": \"number\",\n        \"std\": 1.4942677131847333,\n        \"min\": 0.0168,\n        \"max\": 20.16,\n        \"num_unique_values\": 1198,\n        \"samples\": [\n          0.5628,\n          0.92952,\n          0.1188\n        ],\n        \"semantic_type\": \"\",\n        \"description\": \"\"\n      }\n    }\n  ]\n}"
            }
          },
          "metadata": {},
          "execution_count": 28
        }
      ]
    },
    {
      "cell_type": "code",
      "source": [
        "discharge[2]"
      ],
      "metadata": {
        "colab": {
          "base_uri": "https://localhost:8080/"
        },
        "id": "j3Qmf7Omo1Cp",
        "outputId": "df4a7cbf-7941-4592-9c17-5c57979dbd70"
      },
      "execution_count": 29,
      "outputs": [
        {
          "output_type": "execute_result",
          "data": {
            "text/plain": [
              "np.float64(0.3144)"
            ]
          },
          "metadata": {},
          "execution_count": 29
        }
      ]
    },
    {
      "cell_type": "code",
      "source": [
        "def build_1d_cnn_model(input_shape, nb_filters=64, kernel_size=1, pool_size=1):\n",
        "    '''\n",
        "    Build a 1D ConvNet model with two Conv1D layers\n",
        "    '''\n",
        "    model = Sequential()\n",
        "\n",
        "    # First Conv1D layer\n",
        "    model.add(Conv1D(filters=nb_filters, kernel_size=kernel_size, activation='relu', input_shape=input_shape))\n",
        "    model.add(MaxPooling1D(pool_size=pool_size))\n",
        "\n",
        "    # Flatten before Dense layer\n",
        "    model.add(Flatten())\n",
        "\n",
        "    # Output Dense layer\n",
        "    model.add(Dense(units=1))\n",
        "\n",
        "    # Compile the model\n",
        "    model.compile(loss='mae', optimizer='adam')\n",
        "\n",
        "    return model\n",
        "\n",
        "\n",
        "def train_model(model, train_X, train_y, test_X, test_y, epochs=42, batch_size=64, verbose=0):\n",
        "    '''\n",
        "    Generic function to train the model\n",
        "    '''\n",
        "    history = model.fit(train_X, train_y,\n",
        "                        epochs=epochs,\n",
        "                        batch_size=batch_size,\n",
        "                        validation_data=(test_X, test_y),\n",
        "                        verbose=verbose,\n",
        "                        shuffle=True)\n",
        "    plt.plot(history.history['loss'], label='train')\n",
        "    plt.plot(history.history['val_loss'], label='test')\n",
        "    plt.legend()\n",
        "    plt.show()\n"
      ],
      "metadata": {
        "id": "Zda08knpu1xD"
      },
      "execution_count": 30,
      "outputs": []
    },
    {
      "cell_type": "markdown",
      "source": [
        "Simulation with Scaling data"
      ],
      "metadata": {
        "id": "nefYtmcO_pui"
      }
    },
    {
      "cell_type": "code",
      "source": [
        "# Normalize features\n",
        "values = data_Xy.values.astype('float32')\n",
        "scaler = MinMaxScaler(feature_range=(0, 1))\n",
        "scaled_values = scaler.fit_transform(values)\n",
        "\n",
        "# Create train/tests datasets from scaled_data\n",
        "scaled_train_X, scaled_train_y, scaled_test_X, scaled_test_y = split_train_test(scaled_values, 2557)"
      ],
      "metadata": {
        "id": "v2IhbMpB_uOc",
        "colab": {
          "base_uri": "https://localhost:8080/"
        },
        "outputId": "ddd14037-9441-4df4-ba56-43e665741e3c"
      },
      "execution_count": 31,
      "outputs": [
        {
          "output_type": "stream",
          "name": "stdout",
          "text": [
            "(2557, 1, 4) (2557,) (1095, 1, 4) (1095,)\n"
          ]
        }
      ]
    },
    {
      "cell_type": "code",
      "source": [
        "# Build and train the model\n",
        "input_shape=(scaled_train_X.shape[1], scaled_train_X.shape[2])\n",
        "# Build and train the model using the build_lstm_model (new instance name lstm_model_scaled)\n",
        "Con_lstm_model_scaled = build_1d_cnn_model(input_shape, nb_filters=64, kernel_size=1, pool_size=1)\n",
        "# Train the new model using train_model method as previousely using the new scaled data\n",
        "train_model(Con_lstm_model_scaled, scaled_train_X, scaled_train_y, scaled_test_X, scaled_test_y)"
      ],
      "metadata": {
        "id": "cNsdkcz5_4jk",
        "colab": {
          "base_uri": "https://localhost:8080/",
          "height": 485
        },
        "outputId": "21ba3a27-f317-4316-aa3a-d5743a73178b"
      },
      "execution_count": 32,
      "outputs": [
        {
          "output_type": "stream",
          "name": "stderr",
          "text": [
            "/usr/local/lib/python3.11/dist-packages/keras/src/layers/convolutional/base_conv.py:107: UserWarning: Do not pass an `input_shape`/`input_dim` argument to a layer. When using Sequential models, prefer using an `Input(shape)` object as the first layer in the model instead.\n",
            "  super().__init__(activity_regularizer=activity_regularizer, **kwargs)\n"
          ]
        },
        {
          "output_type": "display_data",
          "data": {
            "text/plain": [
              "<Figure size 640x480 with 1 Axes>"
            ],
            "image/png": "[encoded data removed]"
          },
          "metadata": {}
        }
      ]
    },
    {
      "cell_type": "code",
      "source": [
        "# invert scaling for forecast\n",
        "def invert_scaling(scaled_X, scaled_yhat):\n",
        "  scaled_tX = scaled_X.reshape((scaled_X.shape[0], scaled_X.shape[2]))\n",
        "  Xyat = concatenate((scaled_tX, scaled_yhat.reshape(-1,1)), axis=1)\n",
        "  inv_Xyat = scaler.inverse_transform(Xyat)\n",
        "  return inv_Xyat[:,-1]\n"
      ],
      "metadata": {
        "id": "hjTRI6EL_8I-"
      },
      "execution_count": 33,
      "outputs": []
    },
    {
      "cell_type": "code",
      "source": [
        "# make a prediction on train\n",
        "sca_train_pred_yhat = Con_lstm_model_scaled.predict(scaled_train_X)\n",
        "#\n",
        "sca_inv_yhat = invert_scaling(scaled_train_X, sca_train_pred_yhat)"
      ],
      "metadata": {
        "colab": {
          "base_uri": "https://localhost:8080/"
        },
        "id": "EKLCXvf4Trjk",
        "outputId": "e5970318-2750-43f0-a8de-2b569b260b90"
      },
      "execution_count": 34,
      "outputs": [
        {
          "output_type": "stream",
          "name": "stdout",
          "text": [
            "\u001b[1m80/80\u001b[0m \u001b[32m━━━━━━━━━━━━━━━━━━━━\u001b[0m\u001b[37m\u001b[0m \u001b[1m0s\u001b[0m 2ms/step\n"
          ]
        }
      ]
    },
    {
      "cell_type": "code",
      "source": [
        "# Training Performance evaluation\n",
        "sca_train_pred_flat = sca_inv_yhat.flatten()\n",
        "\n",
        "nse_value = nash_sutcliffe_efficiency(discharge[1:], sca_train_pred_flat[1:])\n",
        "print(\"Nash-Sutcliffe Efficiency (NSE):\", nse_value)\n",
        "\n",
        "rmse = calculate_rmse(discharge[1:], sca_train_pred_flat[1:])\n",
        "print('RMSE =', rmse)\n",
        "\n",
        "r2 = calculate_r2(discharge[1:], sca_train_pred_flat[1:])\n",
        "print('R² =', r2)"
      ],
      "metadata": {
        "colab": {
          "base_uri": "https://localhost:8080/"
        },
        "id": "3zUgqlxiT4qY",
        "outputId": "fbd21aca-902a-4f11-848b-379a25e679bd"
      },
      "execution_count": 35,
      "outputs": [
        {
          "output_type": "stream",
          "name": "stdout",
          "text": [
            "Nash-Sutcliffe Efficiency (NSE): 0.8391915649033294\n",
            "RMSE = 0.6245662138384483\n",
            "R² = 0.8437362305212133\n"
          ]
        }
      ]
    },
    {
      "cell_type": "code",
      "source": [
        "# make a prediction on test\n",
        "sca_test_pred_yhat = Con_lstm_model_scaled.predict(scaled_test_X)\n",
        "#\n",
        "sca_inv_yhat = invert_scaling(scaled_test_X, sca_test_pred_yhat)"
      ],
      "metadata": {
        "id": "L_QCckGUA9j8",
        "colab": {
          "base_uri": "https://localhost:8080/"
        },
        "outputId": "88158b55-b0ed-4524-a7be-400c32f1e863"
      },
      "execution_count": 36,
      "outputs": [
        {
          "output_type": "stream",
          "name": "stdout",
          "text": [
            "\u001b[1m35/35\u001b[0m \u001b[32m━━━━━━━━━━━━━━━━━━━━\u001b[0m\u001b[37m\u001b[0m \u001b[1m0s\u001b[0m 2ms/step \n"
          ]
        }
      ]
    },
    {
      "cell_type": "code",
      "source": [
        "# Validation Performance evaluation\n",
        "sca_test_pred_flat = sca_inv_yhat.flatten()\n",
        "\n",
        "nse_value = nash_sutcliffe_efficiency(discharge1[1:], sca_test_pred_flat[1:])\n",
        "print(\"Nash-Sutcliffe Efficiency (NSE):\", nse_value)\n",
        "\n",
        "rmse = calculate_rmse(discharge1[1:], sca_test_pred_flat[1:])\n",
        "print('RMSE =', rmse)\n",
        "\n",
        "r2 = calculate_r2(discharge1[1:], sca_test_pred_flat[1:])\n",
        "print('R² =', r2)"
      ],
      "metadata": {
        "colab": {
          "base_uri": "https://localhost:8080/"
        },
        "id": "iHMA1XxSA5Am",
        "outputId": "72193c25-931d-499e-aeb6-1f4dbc3ed72f"
      },
      "execution_count": 37,
      "outputs": [
        {
          "output_type": "stream",
          "name": "stdout",
          "text": [
            "Nash-Sutcliffe Efficiency (NSE): 0.8844676480828987\n",
            "RMSE = 0.4534857899318124\n",
            "R² = 0.884500751224897\n"
          ]
        }
      ]
    },
    {
      "cell_type": "code",
      "source": [
        "# Generate dates from 2005-01-01 to 2007-12-31\n",
        "time1 = np.datetime64('2005-01-01')\n",
        "time2 = np.datetime64('2007-12-31')\n",
        "time = np.arange(time1, time2 + np.timedelta64(1, 'D'), dtype='datetime64[D]')\n",
        "\n",
        "# Create a figure and an axis\n",
        "fig, ax = plt.subplots(figsize=(11., 3.5))\n",
        "\n",
        "# Background color\n",
        "fig.patch.set_facecolor('#f0f0f0')\n",
        "ax.set_facecolor('#f0f0f0')\n",
        "\n",
        "# Plot observed and simulated runoff\n",
        "ax.plot(time, discharge1, 'b', label='Observation')\n",
        "#ax.plot(time, Qval_HyM, 'green', label='HyMoLAP', linewidth=1.5)\n",
        "ax.plot(time, sca_test_pred_flat, 'red', label='GR4J-HyMoLAP-CNN')\n",
        "#ax.plot(time, mean_trajectory1, 'red', label='GR4J-HyMoLAP', linewidth=1.5)\n",
        "\n",
        "# Configure x-axis (date format)\n",
        "ax.xaxis.set_major_formatter(mdates.DateFormatter('%Y-%m'))\n",
        "ax.xaxis.set_major_locator(mdates.MonthLocator(bymonth=[1, 7]))\n",
        "plt.xticks(rotation=45)\n",
        "ax.set_xlabel('Date [day]')\n",
        "\n",
        "# Configure y-axis\n",
        "ax.set_ylabel('Runoff [mm/day]')\n",
        "ax.tick_params(axis='y', labelcolor='black')\n",
        "ax.set_ylim(-1, 15)\n",
        "ax.set_yticks(np.arange(0, 16, 5))\n",
        "\n",
        "# Add legend\n",
        "ax.legend(loc='upper left')\n",
        "\n",
        "# Show grid (commented out)\n",
        "#plt.grid(True)\n",
        "\n",
        "# Prevent overlap\n",
        "plt.tight_layout()\n",
        "\n",
        "# Save figure as JPEG with high resolution\n",
        "plt.savefig(\"airGR_L0123001_GR4J-HyMoLAP-CNN.jpeg\", format='jpeg', dpi=700)\n",
        "\n",
        "# Uncomment below if you want to download the image (in Colab)\n",
        "# files.download(\"airGR_L0123001_GR4J-HyMoLAP-CNN.jpeg\")\n",
        "\n",
        "# Show the plot\n",
        "plt.show()\n"
      ],
      "metadata": {
        "colab": {
          "base_uri": "https://localhost:8080/",
          "height": 357
        },
        "id": "3aPc2W4jZEXS",
        "outputId": "2db3e34b-5774-4065-d48e-63449b26ec03"
      },
      "execution_count": 38,
      "outputs": [
        {
          "output_type": "display_data",
          "data": {
            "text/plain": [
              "<Figure size 1100x350 with 1 Axes>"
            ],
            "image/png": "[encoded data removed]"
          },
          "metadata": {}
        }
      ]
    }
  ],
  "metadata": {
    "colab": {
      "provenance": []
    },
    "kernelspec": {
      "display_name": "Python 3",
      "name": "python3"
    },
    "language_info": {
      "codemirror_mode": {
        "name": "ipython",
        "version": 3
      },
      "file_extension": ".py",
      "mimetype": "text/x-python",
      "name": "python",
      "nbconvert_exporter": "python",
      "pygments_lexer": "ipython3",
      "version": "3.11.2"
    }
  },
  "nbformat": 4,
  "nbformat_minor": 0
}