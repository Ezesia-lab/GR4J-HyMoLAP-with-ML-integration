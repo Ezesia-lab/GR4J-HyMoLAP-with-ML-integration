{
  "cells": [
    {
      "cell_type": "code",
      "execution_count": 1,
      "metadata": {
        "id": "D_KA0L10W_EW"
      },
      "outputs": [],
      "source": [
        "import pandas as pd\n",
        "from pandas import read_csv\n",
        "import numpy as np\n",
        "from numpy import concatenate\n",
        "import math\n",
        "from math import sqrt\n",
        "import random\n",
        "from datetime import datetime, timedelta\n",
        "import matplotlib.dates as mdates\n",
        "from matplotlib import pylab as plt\n",
        "\n",
        "from sklearn.preprocessing import LabelEncoder, MinMaxScaler\n",
        "from sklearn.metrics import mean_squared_error, r2_score\n",
        "from sklearn.model_selection import train_test_split, GridSearchCV\n",
        "\n",
        "from keras.models import Sequential\n",
        "from keras.layers import Dense, Dropout, Conv1D, MaxPooling1D\n",
        "from keras.optimizers import Adam\n",
        "\n",
        "from tensorflow.keras.layers import Flatten\n",
        "\n",
        "import joblib\n",
        "from google.colab import files\n",
        "import matplotlib.dates as mdates\n"
      ]
    },
    {
      "cell_type": "code",
      "source": [
        "import tensorflow as tf\n",
        "\n",
        "seed = 311\n",
        "np.random.seed(seed)\n",
        "random.seed(seed)\n",
        "tf.random.set_seed(seed)\n",
        "\n",
        "# To enforce determinism on operations\n",
        "import os\n",
        "os.environ['TF_DETERMINISTIC_OPS'] = '1'"
      ],
      "metadata": {
        "id": "EvvV3j5kVSeD"
      },
      "execution_count": 2,
      "outputs": []
    },
    {
      "cell_type": "code",
      "execution_count": 3,
      "metadata": {
        "colab": {
          "base_uri": "https://localhost:8080/"
        },
        "id": "3Pah970St2Pe",
        "outputId": "3688379f-bb1b-4310-f9ec-b4cba03d3a4a"
      },
      "outputs": [
        {
          "output_type": "stream",
          "name": "stdout",
          "text": [
            "Mounted at /content/drive\n"
          ]
        }
      ],
      "source": [
        "from google.colab import drive\n",
        "drive.mount('/content/drive')"
      ]
    },
    {
      "cell_type": "code",
      "execution_count": 4,
      "metadata": {
        "id": "tQSsnFIkSkj-",
        "colab": {
          "base_uri": "https://localhost:8080/",
          "height": 206
        },
        "outputId": "4cda99ef-3fe6-4529-9019-22abb8454b86"
      },
      "outputs": [
        {
          "output_type": "execute_result",
          "data": {
            "text/plain": [
              "   P_mm   Tmx_degC   Tmn_degC  PET_mm   Qobs_mm  Qobs_m3s        Date\n",
              "0   0.0  24.923411  11.023331   5.541  0.130969     0.943  1979-01-01\n",
              "1   0.0  26.041955  11.184346   5.827  0.120553     0.868  1979-01-02\n",
              "2   0.0  27.163775  11.941578   6.044  0.118886     0.856  1979-01-03\n",
              "3   0.0  27.528073  12.264598   6.100  0.109442     0.788  1979-01-04\n",
              "4   0.0  26.982496  12.659137   5.890  0.108331     0.780  1979-01-05"
            ],
            "text/html": [
              "\n",
              "  <div id=\"df-299c3020-619e-4314-87e8-80950301a910\" class=\"colab-df-container\">\n",
              "    <div>\n",
              "<style scoped>\n",
              "    .dataframe tbody tr th:only-of-type {\n",
              "        vertical-align: middle;\n",
              "    }\n",
              "\n",
              "    .dataframe tbody tr th {\n",
              "        vertical-align: top;\n",
              "    }\n",
              "\n",
              "    .dataframe thead th {\n",
              "        text-align: right;\n",
              "    }\n",
              "</style>\n",
              "<table border=\"1\" class=\"dataframe\">\n",
              "  <thead>\n",
              "    <tr style=\"text-align: right;\">\n",
              "      <th></th>\n",
              "      <th>P_mm</th>\n",
              "      <th>Tmx_degC</th>\n",
              "      <th>Tmn_degC</th>\n",
              "      <th>PET_mm</th>\n",
              "      <th>Qobs_mm</th>\n",
              "      <th>Qobs_m3s</th>\n",
              "      <th>Date</th>\n",
              "    </tr>\n",
              "  </thead>\n",
              "  <tbody>\n",
              "    <tr>\n",
              "      <th>0</th>\n",
              "      <td>0.0</td>\n",
              "      <td>24.923411</td>\n",
              "      <td>11.023331</td>\n",
              "      <td>5.541</td>\n",
              "      <td>0.130969</td>\n",
              "      <td>0.943</td>\n",
              "      <td>1979-01-01</td>\n",
              "    </tr>\n",
              "    <tr>\n",
              "      <th>1</th>\n",
              "      <td>0.0</td>\n",
              "      <td>26.041955</td>\n",
              "      <td>11.184346</td>\n",
              "      <td>5.827</td>\n",
              "      <td>0.120553</td>\n",
              "      <td>0.868</td>\n",
              "      <td>1979-01-02</td>\n",
              "    </tr>\n",
              "    <tr>\n",
              "      <th>2</th>\n",
              "      <td>0.0</td>\n",
              "      <td>27.163775</td>\n",
              "      <td>11.941578</td>\n",
              "      <td>6.044</td>\n",
              "      <td>0.118886</td>\n",
              "      <td>0.856</td>\n",
              "      <td>1979-01-03</td>\n",
              "    </tr>\n",
              "    <tr>\n",
              "      <th>3</th>\n",
              "      <td>0.0</td>\n",
              "      <td>27.528073</td>\n",
              "      <td>12.264598</td>\n",
              "      <td>6.100</td>\n",
              "      <td>0.109442</td>\n",
              "      <td>0.788</td>\n",
              "      <td>1979-01-04</td>\n",
              "    </tr>\n",
              "    <tr>\n",
              "      <th>4</th>\n",
              "      <td>0.0</td>\n",
              "      <td>26.982496</td>\n",
              "      <td>12.659137</td>\n",
              "      <td>5.890</td>\n",
              "      <td>0.108331</td>\n",
              "      <td>0.780</td>\n",
              "      <td>1979-01-05</td>\n",
              "    </tr>\n",
              "  </tbody>\n",
              "</table>\n",
              "</div>\n",
              "    <div class=\"colab-df-buttons\">\n",
              "\n",
              "  <div class=\"colab-df-container\">\n",
              "    <button class=\"colab-df-convert\" onclick=\"convertToInteractive('df-299c3020-619e-4314-87e8-80950301a910')\"\n",
              "            title=\"Convert this dataframe to an interactive table.\"\n",
              "            style=\"display:none;\">\n",
              "\n",
              "  <svg xmlns=\"http://www.w3.org/2000/svg\" height=\"24px\" viewBox=\"0 -960 960 960\">\n",
              "    <path d=\"M120-120v-720h720v720H120Zm60-500h600v-160H180v160Zm220 220h160v-160H400v160Zm0 220h160v-160H400v160ZM180-400h160v-160H180v160Zm440 0h160v-160H620v160ZM180-180h160v-160H180v160Zm440 0h160v-160H620v160Z\"/>\n",
              "  </svg>\n",
              "    </button>\n",
              "\n",
              "  <style>\n",
              "    .colab-df-container {\n",
              "      display:flex;\n",
              "      gap: 12px;\n",
              "    }\n",
              "\n",
              "    .colab-df-convert {\n",
              "      background-color: #E8F0FE;\n",
              "      border: none;\n",
              "      border-radius: 50%;\n",
              "      cursor: pointer;\n",
              "      display: none;\n",
              "      fill: #1967D2;\n",
              "      height: 32px;\n",
              "      padding: 0 0 0 0;\n",
              "      width: 32px;\n",
              "    }\n",
              "\n",
              "    .colab-df-convert:hover {\n",
              "      background-color: #E2EBFA;\n",
              "      box-shadow: 0px 1px 2px rgba(60, 64, 67, 0.3), 0px 1px 3px 1px rgba(60, 64, 67, 0.15);\n",
              "      fill: #174EA6;\n",
              "    }\n",
              "\n",
              "    .colab-df-buttons div {\n",
              "      margin-bottom: 4px;\n",
              "    }\n",
              "\n",
              "    [theme=dark] .colab-df-convert {\n",
              "      background-color: #3B4455;\n",
              "      fill: #D2E3FC;\n",
              "    }\n",
              "\n",
              "    [theme=dark] .colab-df-convert:hover {\n",
              "      background-color: #434B5C;\n",
              "      box-shadow: 0px 1px 3px 1px rgba(0, 0, 0, 0.15);\n",
              "      filter: drop-shadow(0px 1px 2px rgba(0, 0, 0, 0.3));\n",
              "      fill: #FFFFFF;\n",
              "    }\n",
              "  </style>\n",
              "\n",
              "    <script>\n",
              "      const buttonEl =\n",
              "        document.querySelector('#df-299c3020-619e-4314-87e8-80950301a910 button.colab-df-convert');\n",
              "      buttonEl.style.display =\n",
              "        google.colab.kernel.accessAllowed ? 'block' : 'none';\n",
              "\n",
              "      async function convertToInteractive(key) {\n",
              "        const element = document.querySelector('#df-299c3020-619e-4314-87e8-80950301a910');\n",
              "        const dataTable =\n",
              "          await google.colab.kernel.invokeFunction('convertToInteractive',\n",
              "                                                    [key], {});\n",
              "        if (!dataTable) return;\n",
              "\n",
              "        const docLinkHtml = 'Like what you see? Visit the ' +\n",
              "          '<a target=\"_blank\" href=https://colab.research.google.com/notebooks/data_table.ipynb>data table notebook</a>'\n",
              "          + ' to learn more about interactive tables.';\n",
              "        element.innerHTML = '';\n",
              "        dataTable['output_type'] = 'display_data';\n",
              "        await google.colab.output.renderOutput(dataTable, element);\n",
              "        const docLink = document.createElement('div');\n",
              "        docLink.innerHTML = docLinkHtml;\n",
              "        element.appendChild(docLink);\n",
              "      }\n",
              "    </script>\n",
              "  </div>\n",
              "\n",
              "\n",
              "    <div id=\"df-3183e4a6-9d8b-4e0e-a251-070e50eba509\">\n",
              "      <button class=\"colab-df-quickchart\" onclick=\"quickchart('df-3183e4a6-9d8b-4e0e-a251-070e50eba509')\"\n",
              "                title=\"Suggest charts\"\n",
              "                style=\"display:none;\">\n",
              "\n",
              "<svg xmlns=\"http://www.w3.org/2000/svg\" height=\"24px\"viewBox=\"0 0 24 24\"\n",
              "     width=\"24px\">\n",
              "    <g>\n",
              "        <path d=\"M19 3H5c-1.1 0-2 .9-2 2v14c0 1.1.9 2 2 2h14c1.1 0 2-.9 2-2V5c0-1.1-.9-2-2-2zM9 17H7v-7h2v7zm4 0h-2V7h2v10zm4 0h-2v-4h2v4z\"/>\n",
              "    </g>\n",
              "</svg>\n",
              "      </button>\n",
              "\n",
              "<style>\n",
              "  .colab-df-quickchart {\n",
              "      --bg-color: #E8F0FE;\n",
              "      --fill-color: #1967D2;\n",
              "      --hover-bg-color: #E2EBFA;\n",
              "      --hover-fill-color: #174EA6;\n",
              "      --disabled-fill-color: #AAA;\n",
              "      --disabled-bg-color: #DDD;\n",
              "  }\n",
              "\n",
              "  [theme=dark] .colab-df-quickchart {\n",
              "      --bg-color: #3B4455;\n",
              "      --fill-color: #D2E3FC;\n",
              "      --hover-bg-color: #434B5C;\n",
              "      --hover-fill-color: #FFFFFF;\n",
              "      --disabled-bg-color: #3B4455;\n",
              "      --disabled-fill-color: #666;\n",
              "  }\n",
              "\n",
              "  .colab-df-quickchart {\n",
              "    background-color: var(--bg-color);\n",
              "    border: none;\n",
              "    border-radius: 50%;\n",
              "    cursor: pointer;\n",
              "    display: none;\n",
              "    fill: var(--fill-color);\n",
              "    height: 32px;\n",
              "    padding: 0;\n",
              "    width: 32px;\n",
              "  }\n",
              "\n",
              "  .colab-df-quickchart:hover {\n",
              "    background-color: var(--hover-bg-color);\n",
              "    box-shadow: 0 1px 2px rgba(60, 64, 67, 0.3), 0 1px 3px 1px rgba(60, 64, 67, 0.15);\n",
              "    fill: var(--button-hover-fill-color);\n",
              "  }\n",
              "\n",
              "  .colab-df-quickchart-complete:disabled,\n",
              "  .colab-df-quickchart-complete:disabled:hover {\n",
              "    background-color: var(--disabled-bg-color);\n",
              "    fill: var(--disabled-fill-color);\n",
              "    box-shadow: none;\n",
              "  }\n",
              "\n",
              "  .colab-df-spinner {\n",
              "    border: 2px solid var(--fill-color);\n",
              "    border-color: transparent;\n",
              "    border-bottom-color: var(--fill-color);\n",
              "    animation:\n",
              "      spin 1s steps(1) infinite;\n",
              "  }\n",
              "\n",
              "  @keyframes spin {\n",
              "    0% {\n",
              "      border-color: transparent;\n",
              "      border-bottom-color: var(--fill-color);\n",
              "      border-left-color: var(--fill-color);\n",
              "    }\n",
              "    20% {\n",
              "      border-color: transparent;\n",
              "      border-left-color: var(--fill-color);\n",
              "      border-top-color: var(--fill-color);\n",
              "    }\n",
              "    30% {\n",
              "      border-color: transparent;\n",
              "      border-left-color: var(--fill-color);\n",
              "      border-top-color: var(--fill-color);\n",
              "      border-right-color: var(--fill-color);\n",
              "    }\n",
              "    40% {\n",
              "      border-color: transparent;\n",
              "      border-right-color: var(--fill-color);\n",
              "      border-top-color: var(--fill-color);\n",
              "    }\n",
              "    60% {\n",
              "      border-color: transparent;\n",
              "      border-right-color: var(--fill-color);\n",
              "    }\n",
              "    80% {\n",
              "      border-color: transparent;\n",
              "      border-right-color: var(--fill-color);\n",
              "      border-bottom-color: var(--fill-color);\n",
              "    }\n",
              "    90% {\n",
              "      border-color: transparent;\n",
              "      border-bottom-color: var(--fill-color);\n",
              "    }\n",
              "  }\n",
              "</style>\n",
              "\n",
              "      <script>\n",
              "        async function quickchart(key) {\n",
              "          const quickchartButtonEl =\n",
              "            document.querySelector('#' + key + ' button');\n",
              "          quickchartButtonEl.disabled = true;  // To prevent multiple clicks.\n",
              "          quickchartButtonEl.classList.add('colab-df-spinner');\n",
              "          try {\n",
              "            const charts = await google.colab.kernel.invokeFunction(\n",
              "                'suggestCharts', [key], {});\n",
              "          } catch (error) {\n",
              "            console.error('Error during call to suggestCharts:', error);\n",
              "          }\n",
              "          quickchartButtonEl.classList.remove('colab-df-spinner');\n",
              "          quickchartButtonEl.classList.add('colab-df-quickchart-complete');\n",
              "        }\n",
              "        (() => {\n",
              "          let quickchartButtonEl =\n",
              "            document.querySelector('#df-3183e4a6-9d8b-4e0e-a251-070e50eba509 button');\n",
              "          quickchartButtonEl.style.display =\n",
              "            google.colab.kernel.accessAllowed ? 'block' : 'none';\n",
              "        })();\n",
              "      </script>\n",
              "    </div>\n",
              "\n",
              "    </div>\n",
              "  </div>\n"
            ],
            "application/vnd.google.colaboratory.intrinsic+json": {
              "type": "dataframe",
              "variable_name": "daily",
              "summary": "{\n  \"name\": \"daily\",\n  \"rows\": 14975,\n  \"fields\": [\n    {\n      \"column\": \"P_mm\",\n      \"properties\": {\n        \"dtype\": \"number\",\n        \"std\": 7.6898430336224415,\n        \"min\": 0.0,\n        \"max\": 111.63318,\n        \"num_unique_values\": 3314,\n        \"samples\": [\n          7.8819652,\n          42.980809,\n          28.544388\n        ],\n        \"semantic_type\": \"\",\n        \"description\": \"\"\n      }\n    },\n    {\n      \"column\": \"Tmx_degC\",\n      \"properties\": {\n        \"dtype\": \"number\",\n        \"std\": 4.870678393254859,\n        \"min\": 8.1605512,\n        \"max\": 37.16212,\n        \"num_unique_values\": 14967,\n        \"samples\": [\n          21.687773,\n          23.860957,\n          17.421127\n        ],\n        \"semantic_type\": \"\",\n        \"description\": \"\"\n      }\n    },\n    {\n      \"column\": \"Tmn_degC\",\n      \"properties\": {\n        \"dtype\": \"number\",\n        \"std\": 3.518917616900008,\n        \"min\": -2.9288243,\n        \"max\": 18.873212,\n        \"num_unique_values\": 14973,\n        \"samples\": [\n          9.6122425,\n          8.8816386,\n          13.5757\n        ],\n        \"semantic_type\": \"\",\n        \"description\": \"\"\n      }\n    },\n    {\n      \"column\": \"PET_mm\",\n      \"properties\": {\n        \"dtype\": \"number\",\n        \"std\": 1.595049812012193,\n        \"min\": 0.792,\n        \"max\": 7.751,\n        \"num_unique_values\": 4976,\n        \"samples\": [\n          4.278,\n          1.169,\n          5.103\n        ],\n        \"semantic_type\": \"\",\n        \"description\": \"\"\n      }\n    },\n    {\n      \"column\": \"Qobs_mm\",\n      \"properties\": {\n        \"dtype\": \"number\",\n        \"std\": 3.7182325107243352,\n        \"min\": 0.0013888552589299,\n        \"max\": 118.469353586728,\n        \"num_unique_values\": 2528,\n        \"samples\": [\n          0.104025258893856,\n          0.144440946928719,\n          0.130552394339419\n        ],\n        \"semantic_type\": \"\",\n        \"description\": \"\"\n      }\n    },\n    {\n      \"column\": \"Qobs_m3s\",\n      \"properties\": {\n        \"dtype\": \"number\",\n        \"std\": 26.771922321041373,\n        \"min\": 0.01,\n        \"max\": 853.0,\n        \"num_unique_values\": 2528,\n        \"samples\": [\n          0.749,\n          1.04,\n          0.94\n        ],\n        \"semantic_type\": \"\",\n        \"description\": \"\"\n      }\n    },\n    {\n      \"column\": \"Date\",\n      \"properties\": {\n        \"dtype\": \"object\",\n        \"num_unique_values\": 14975,\n        \"samples\": [\n          \"2010-12-12\",\n          \"2005-11-06\",\n          \"2006-01-07\"\n        ],\n        \"semantic_type\": \"\",\n        \"description\": \"\"\n      }\n    }\n  ]\n}"
            }
          },
          "metadata": {},
          "execution_count": 4
        }
      ],
      "source": [
        "daily = pd.read_csv('/content/drive/MyDrive/Colab Notebooks/Alone/Cauquenes7336001__.csv')\n",
        "\n",
        "daily.head()"
      ]
    },
    {
      "cell_type": "code",
      "source": [
        "#We select data period without missing values\n",
        "\n",
        "plui = daily.iloc[7305:8766, 0].to_numpy()\n",
        "etp = daily.iloc[7305:8766, 3].to_numpy()\n",
        "discharge = daily.iloc[7305:8766, 4].to_numpy()"
      ],
      "metadata": {
        "id": "lM15d2OVjnw6"
      },
      "execution_count": 5,
      "outputs": []
    },
    {
      "cell_type": "code",
      "source": [
        "discharge[0]"
      ],
      "metadata": {
        "colab": {
          "base_uri": "https://localhost:8080/"
        },
        "id": "Aa5vqbtpLLkU",
        "outputId": "c8f6b96a-0fd1-42b7-dd14-9b873eda897e"
      },
      "execution_count": 6,
      "outputs": [
        {
          "output_type": "execute_result",
          "data": {
            "text/plain": [
              "np.float64(0.0134718960116209)"
            ]
          },
          "metadata": {},
          "execution_count": 6
        }
      ]
    },
    {
      "cell_type": "code",
      "execution_count": 7,
      "metadata": {
        "id": "s4v9WPnl5GH4"
      },
      "outputs": [],
      "source": [
        "#NSE, RMSE, R2\n",
        "def nash_sutcliffe_efficiency(observed, simulated):\n",
        "    obs_mean = np.mean(observed)\n",
        "    numerator = np.sum((observed - simulated) ** 2)\n",
        "    denominator = np.sum((observed - obs_mean) ** 2)\n",
        "\n",
        "    nse = 1 - (numerator / denominator)\n",
        "    return nse\n",
        "\n",
        "def calculate_rmse(observed, predicted):\n",
        "\n",
        "    rmse = np.sqrt(np.mean((observed - predicted)**2))\n",
        "    return rmse\n",
        "\n",
        "def calculate_r2(observed, predicted):\n",
        "\n",
        "    mean_observed = np.mean(observed)\n",
        "    mean_predicted = np.mean(predicted)\n",
        "\n",
        "    numerator = np.sum((observed - mean_observed) * (predicted - mean_predicted))\n",
        "    denominator = np.sqrt(np.sum((observed - mean_observed)**2)) * np.sqrt(np.sum((predicted - mean_predicted)**2))\n",
        "\n",
        "    r2 = (numerator / denominator)**2\n",
        "    return r2\n"
      ]
    },
    {
      "cell_type": "markdown",
      "source": [
        "GR4J_HyMoLAP"
      ],
      "metadata": {
        "id": "n5Y66TGEbjwx"
      }
    },
    {
      "cell_type": "code",
      "execution_count": 8,
      "metadata": {
        "id": "fNoY9kGaztyF"
      },
      "outputs": [],
      "source": [
        "#Percolation\n",
        "\n",
        "def Percolation(Pn, En, X1):\n",
        "   n = len(Pn)\n",
        "   S = np.zeros(n)\n",
        "   S[0] =  Pn[0]\n",
        "\n",
        "   Perc = np.zeros(n)\n",
        "   ratio = (4.0 / 9.0) * (S[0] / X1)\n",
        "   Perc[0] = S[0] * (1 - (1 + ratio**4) ** (-0.25))\n",
        "\n",
        "   Pr = np.zeros(n)\n",
        "   Pr[0] = Perc[0] + Pn[0]\n",
        "\n",
        "   for i in range(1, n):\n",
        "        temp = (S[i-1] / X1) ** 2\n",
        "        frac = Pn[i] / X1\n",
        "        Ps = X1 * (1 - temp) * np.tanh(frac) / (1 + (S[i-1] / X1) * np.tanh(frac))\n",
        "\n",
        "        frac = En[i] / X1\n",
        "        Es = S[i-1] * (2 - S[i-1] / X1) * np.tanh(frac) / (1 + (1 - S[i-1] / X1) * np.tanh(frac))\n",
        "\n",
        "        S[i] = S[i-1] + Ps - Es\n",
        "\n",
        "        ratio = (4.0 / 9.0) * (S[i] / X1)\n",
        "        Perc[i] = S[i] * (1 - (1 + ratio**4) ** (-0.25))\n",
        "\n",
        "        Pr[i] = Perc[i] + Pn[i] - Ps\n",
        "\n",
        "   return Perc"
      ]
    },
    {
      "cell_type": "code",
      "execution_count": 12,
      "metadata": {
        "colab": {
          "base_uri": "https://localhost:8080/"
        },
        "id": "DYlOGMC6Kf-l",
        "outputId": "45da7da5-06c9-41db-c563-fbf451462cd7"
      },
      "outputs": [
        {
          "output_type": "stream",
          "name": "stdout",
          "text": [
            "0.764711330263331\n"
          ]
        }
      ],
      "source": [
        "#Calibration\n",
        "Pn = plui - etp\n",
        "Pn[Pn < 0] = 0\n",
        "\n",
        "En = etp - plui\n",
        "En[En < 0] = 0\n",
        "\n",
        "#  model\n",
        "nse = -100\n",
        "Qsim = np.zeros(len(discharge))\n",
        "Qsim[0] = discharge[0]\n",
        "Q1 = np.zeros(len(discharge))\n",
        "\n",
        "for pp in range(1): #range(20000):\n",
        "      mu = 1.0876190199933156 #(1.5 - 0.7) * np.random.rand() + 0.7\n",
        "      lambda_ = 3.7565491745434856 #(10 - 0.1) * np.random.rand() + 0.1\n",
        "      X1 = 291.8694529794576 #(350 - 250) * np.random.rand() + 250\n",
        "\n",
        "      Perc = Percolation(Pn, En, X1)\n",
        "\n",
        "      for k in range(len(discharge)-1):\n",
        "\n",
        "          Qsim[k+1] = Qsim[k] - (mu/lambda_) * Qsim[k]**(2*mu-1) +  (1/lambda_) * Perc[k] * Pn[k]\n",
        "\n",
        "\n",
        "      #Nsh criteria\n",
        "      nsee =  nash_sutcliffe_efficiency(discharge[1:], Qsim[1:])\n",
        "      if nsee > nse:\n",
        "          nse = nsee\n",
        "          mu1 = mu\n",
        "          lambda1 = lambda_\n",
        "          X11 = X1\n",
        "          GR4J_HyM = Qsim.copy()\n",
        "\n",
        "\n",
        "print(nse)"
      ]
    },
    {
      "cell_type": "code",
      "execution_count": 13,
      "metadata": {
        "colab": {
          "base_uri": "https://localhost:8080/"
        },
        "id": "WQT0oZlZKTOV",
        "outputId": "0ab25b86-44f3-4d8f-cefc-0574e0c88617"
      },
      "outputs": [
        {
          "output_type": "stream",
          "name": "stdout",
          "text": [
            "1.0876190199933156\n",
            "3.7565491745434856\n",
            "291.8694529794576\n"
          ]
        }
      ],
      "source": [
        "print(mu1)\n",
        "print(lambda1)\n",
        "print(X11)"
      ]
    },
    {
      "cell_type": "markdown",
      "metadata": {
        "id": "UtDlxiOJVe5k"
      },
      "source": []
    },
    {
      "cell_type": "code",
      "execution_count": 14,
      "metadata": {
        "colab": {
          "base_uri": "https://localhost:8080/"
        },
        "id": "flFAtLbd5UqX",
        "outputId": "3c0fdca6-2d53-46a6-860d-590df339344a"
      },
      "outputs": [
        {
          "output_type": "stream",
          "name": "stdout",
          "text": [
            "nashe= 0.764711330263331\n",
            "rmse= 3.031214488067131\n",
            "r2= 0.7667881114831753\n"
          ]
        }
      ],
      "source": [
        "print('nashe=',nash_sutcliffe_efficiency(discharge[1:], GR4J_HyM[1:]))\n",
        "print('rmse=',calculate_rmse(discharge[1:], GR4J_HyM[1:]))\n",
        "print('r2=',calculate_r2(discharge[1:], GR4J_HyM[1:]))"
      ]
    },
    {
      "cell_type": "markdown",
      "metadata": {
        "id": "b_wWU3zhitj9"
      },
      "source": [
        "Validation"
      ]
    },
    {
      "cell_type": "code",
      "source": [
        "discharge1 = daily.iloc[8766:9862, 4].to_numpy()\n",
        "plui1 = daily.iloc[8766:9862, 0].to_numpy()\n",
        "etp1 = daily.iloc[8766:9862, 3].to_numpy()"
      ],
      "metadata": {
        "id": "KVtGV8sssWqI"
      },
      "execution_count": 15,
      "outputs": []
    },
    {
      "cell_type": "code",
      "source": [
        "Pn1 = plui1 - etp1\n",
        "Pn1[Pn1 < 0] = 0\n",
        "\n",
        "En1 = etp1 - plui1\n",
        "En1[En1 < 0] = 0"
      ],
      "metadata": {
        "id": "9IGO8jeiskZ4"
      },
      "execution_count": 16,
      "outputs": []
    },
    {
      "cell_type": "code",
      "execution_count": 17,
      "metadata": {
        "id": "-mhlP1IDjYkj"
      },
      "outputs": [],
      "source": [
        "# Simulation\n",
        "size = len(discharge1)\n",
        "Perc1 = Percolation(Pn1, En1, X11)\n",
        "\n",
        "#EQUATION\n",
        "Qval = np.zeros(size)\n",
        "Qval[0] = discharge1[0]\n",
        "\n",
        "for k in range(0, size-1):\n",
        "\n",
        "    Qval[k+1] = Qval[k] - (mu1/lambda1) * Qval[k]**(2*mu1-1) +  (1/lambda1) * Perc1[k] * Pn1[k]"
      ]
    },
    {
      "cell_type": "code",
      "execution_count": 18,
      "metadata": {
        "colab": {
          "base_uri": "https://localhost:8080/",
          "height": 357
        },
        "id": "w4mrtNeYjuM6",
        "outputId": "d98c5996-dd1c-49e5-b80d-f927fdbc95ce"
      },
      "outputs": [
        {
          "output_type": "display_data",
          "data": {
            "text/plain": [
              "<Figure size 1100x350 with 1 Axes>"
            ],
            "image/png": "[encoded data removed]"
          },
          "metadata": {}
        }
      ],
      "source": [
        "# Generate dates\n",
        "time1 = np.datetime64('2023-01-01')\n",
        "time2 = np.datetime64('2025-12-31')\n",
        "time = np.arange(time1, time2 + np.timedelta64(1, 'D'), dtype='datetime64[D]')\n",
        "\n",
        "# Create a figure and an axis\n",
        "fig, ax = plt.subplots(figsize=(11., 3.5))\n",
        "\n",
        "# Background color\n",
        "fig.patch.set_facecolor('#f0f0f0')\n",
        "ax.set_facecolor('#f0f0f0')\n",
        "\n",
        "# Plot observed and simulated runoff\n",
        "ax.plot(time, discharge1, 'b',  label='Observation', linewidth=1.5)\n",
        "ax.plot(time, Qval, 'magenta', label='GR4J-HyMoLAP', linewidth=1.5)\n",
        "\n",
        "# X-axis settings (date format)\n",
        "ax.xaxis.set_major_formatter(mdates.DateFormatter('%Y-%m'))\n",
        "ax.xaxis.set_major_locator(mdates.MonthLocator(bymonth=[1, 7]))\n",
        "plt.xticks(rotation=45)\n",
        "ax.set_xlabel('Date [day]')\n",
        "\n",
        "# Y-axis settings\n",
        "ax.set_ylabel('Runoff [mm/day]')\n",
        "ax.tick_params(axis='y', labelcolor='black')\n",
        "ax.set_ylim(-5, 100)\n",
        "ax.set_yticks(np.arange(0, 101, 30))\n",
        "\n",
        "# Add legend\n",
        "ax.legend(loc='upper left')\n",
        "\n",
        "# Show grid\n",
        "#plt.grid(True)\n",
        "\n",
        "# Avoid overlap\n",
        "plt.tight_layout()\n",
        "\n",
        "# Save figure\n",
        "plt.savefig(\"Cauqueness_GR4J-HyMoLAP.jpeg\", format='jpeg', dpi=700)\n",
        "\n",
        "#files.download(\"Cauqueness_GR4J-HyMoLAP.jpeg\")\n",
        "\n",
        "# Display plot\n",
        "plt.show()\n"
      ]
    },
    {
      "cell_type": "code",
      "execution_count": 19,
      "metadata": {
        "colab": {
          "base_uri": "https://localhost:8080/"
        },
        "id": "SVWNxJN8LVp2",
        "outputId": "b6ec34fc-2359-465d-ad7a-b40eeae9a926"
      },
      "outputs": [
        {
          "output_type": "stream",
          "name": "stdout",
          "text": [
            "Nash-Sutcliffe Efficiency (NSE): 0.7521736716358391\n",
            "rmse= 2.3357670329673583\n",
            "r2= 0.759660311239022\n"
          ]
        }
      ],
      "source": [
        "nse_value = nash_sutcliffe_efficiency(discharge1[1:], Qval[1:])\n",
        "print(\"Nash-Sutcliffe Efficiency (NSE):\", nse_value)\n",
        "\n",
        "rmse = calculate_rmse(discharge1[1:], Qval[1:])\n",
        "print('rmse=', rmse)\n",
        "\n",
        "r2 = calculate_r2(discharge1[1:], Qval[1:])\n",
        "print('r2=', r2)"
      ]
    },
    {
      "cell_type": "markdown",
      "metadata": {
        "id": "odMbPwjOn486"
      },
      "source": [
        "Hybrid HyMoLAP_GR4J_CNN"
      ]
    },
    {
      "cell_type": "code",
      "execution_count": 20,
      "metadata": {
        "id": "9KZs1_zdrDMd"
      },
      "outputs": [],
      "source": [
        "def split_train_test(values, n_train_hours = 1460):\n",
        "    # Split the data into train (use values before n_train_hours) and test sets (use values after n_train_hours)\n",
        "    train = values[:n_train_hours, :]\n",
        "    test = values[n_train_hours:, :]\n",
        "    # split into input and outputs\n",
        "    train_X, train_y = train[:, :-1], train[:, -1]\n",
        "    test_X, test_y = test[:, :-1], test[:, -1]\n",
        "    # reshape input to be 3D [samples, timesteps, features] required for LSTM\n",
        "    train_X = train_X.reshape((train_X.shape[0], 1, train_X.shape[1]))\n",
        "    test_X = test_X.reshape((test_X.shape[0], 1, test_X.shape[1]))\n",
        "\n",
        "    print(train_X.shape, train_y.shape, test_X.shape, test_y.shape)\n",
        "    return train_X, train_y, test_X, test_y"
      ]
    },
    {
      "cell_type": "code",
      "execution_count": 21,
      "metadata": {
        "id": "5wAPYa_wrHuU"
      },
      "outputs": [],
      "source": [
        "def history_and_horizon_sequencing(df, n_history, n_horizon, target='debits'):\n",
        "    # Separate inputs (e.g., precipitation, ETP) from targets (e.g., discharge)\n",
        "    input_columns = [col for col in df.columns if col != target]\n",
        "    df_inputs = df[input_columns]\n",
        "    df_target = df[target].to_frame()\n",
        "\n",
        "    # History: past sequences (t-n, ... t-1) for inputs (e.g., precipitation, ETP)\n",
        "    stack_history = []\n",
        "    for i in range(n_history, 0, -1):\n",
        "        df_i = df_inputs.shift(i)\n",
        "        df_i.columns = [f'{col}_t-{i}' for col in df_i.columns]\n",
        "        stack_history.append(df_i)\n",
        "\n",
        "    # Present: t for inputs\n",
        "    df_t = df_inputs.copy()\n",
        "    df_t.columns = [f'{col}_t' for col in df_t.columns]\n",
        "\n",
        "    # Horizon: future sequences (t+1, ... t+n) for targets (e.g., discharge)\n",
        "    stack_horizon = []\n",
        "    for j in range(0, n_horizon):\n",
        "        df_j = df_target.shift(-j)\n",
        "        df_j.columns = [f'{col}_t+{j}' for col in df_j.columns]\n",
        "        stack_horizon.append(df_j)\n",
        "\n",
        "    # Return the concatenated DataFrame: past + present + future (inputs and targets)\n",
        "    return pd.concat(stack_history + [df_t] + stack_horizon, axis=1)"
      ]
    },
    {
      "cell_type": "code",
      "execution_count": 22,
      "metadata": {
        "id": "SzGQQEN7mArY"
      },
      "outputs": [],
      "source": [
        "# Create DataFrame for training (calibration)\n",
        "data_train = pd.DataFrame({\n",
        "    'perc': Perc,\n",
        "    'Qsim': GR4J_HyM,\n",
        "    'prec': plui,\n",
        "    'pet': etp,\n",
        "\n",
        "    'target': discharge\n",
        "})\n",
        "\n",
        "# Create DataFrame for validation (test)\n",
        "data_test = pd.DataFrame({\n",
        "    'perc': Perc1,\n",
        "    'Qsim': Qval,\n",
        "    'prec': plui1,\n",
        "    'pet': etp1,\n",
        "\n",
        "    'target': discharge1\n",
        "})\n",
        "\n",
        "# Concatenate the two DataFrames (calibration + validation)\n",
        "data = pd.concat([data_train, data_test], ignore_index=True)\n"
      ]
    },
    {
      "cell_type": "code",
      "source": [
        "#Include look_back\n",
        "look_back = 0\n",
        "horizon = 1     # To correspond to the same day (t) as the inputs\n",
        "\n",
        "data_Xy = history_and_horizon_sequencing(data, look_back, horizon, target='target')\n",
        "data_Xy.dropna(inplace=True)\n",
        "\n",
        "#split data\n",
        "train_X, train_y, test_X, test_y = split_train_test(data_Xy.values, 1461)\n"
      ],
      "metadata": {
        "colab": {
          "base_uri": "https://localhost:8080/"
        },
        "id": "5A5zoUGBnzvd",
        "outputId": "d77ddcb7-2033-4ed7-a413-60e3675bfa6a"
      },
      "execution_count": 23,
      "outputs": [
        {
          "output_type": "stream",
          "name": "stdout",
          "text": [
            "(1461, 1, 4) (1461,) (1096, 1, 4) (1096,)\n"
          ]
        }
      ]
    },
    {
      "cell_type": "code",
      "source": [
        "data_Xy"
      ],
      "metadata": {
        "colab": {
          "base_uri": "https://localhost:8080/",
          "height": 423
        },
        "id": "QhKVMiklolSC",
        "outputId": "a4536991-d17e-481d-f760-735828678f7f"
      },
      "execution_count": 24,
      "outputs": [
        {
          "output_type": "execute_result",
          "data": {
            "text/plain": [
              "        perc_t    Qsim_t  prec_t  pet_t  target_t+0\n",
              "0     0.000000  0.013472     0.0  6.078    0.013472\n",
              "1     0.000000  0.011638     0.0  5.798    0.012639\n",
              "2     0.000000  0.010094     0.0  5.189    0.012083\n",
              "3     0.000000  0.008788     0.0  5.422    0.011250\n",
              "4     0.000000  0.007678     0.0  5.425    0.010694\n",
              "...        ...       ...     ...    ...         ...\n",
              "2552  0.000203  0.002357     0.0  4.470    0.102775\n",
              "2553  0.000169  0.002120     0.0  5.784    0.103331\n",
              "2554  0.000143  0.001912     0.0  5.255    0.106942\n",
              "2555  0.000120  0.001727     0.0  5.450    0.104720\n",
              "2556  0.000100  0.001563     0.0  5.510    0.101386\n",
              "\n",
              "[2557 rows x 5 columns]"
            ],
            "text/html": [
              "\n",
              "  <div id=\"df-e98c2c2a-a0dc-45cb-b77c-a27cae3c1f33\" class=\"colab-df-container\">\n",
              "    <div>\n",
              "<style scoped>\n",
              "    .dataframe tbody tr th:only-of-type {\n",
              "        vertical-align: middle;\n",
              "    }\n",
              "\n",
              "    .dataframe tbody tr th {\n",
              "        vertical-align: top;\n",
              "    }\n",
              "\n",
              "    .dataframe thead th {\n",
              "        text-align: right;\n",
              "    }\n",
              "</style>\n",
              "<table border=\"1\" class=\"dataframe\">\n",
              "  <thead>\n",
              "    <tr style=\"text-align: right;\">\n",
              "      <th></th>\n",
              "      <th>perc_t</th>\n",
              "      <th>Qsim_t</th>\n",
              "      <th>prec_t</th>\n",
              "      <th>pet_t</th>\n",
              "      <th>target_t+0</th>\n",
              "    </tr>\n",
              "  </thead>\n",
              "  <tbody>\n",
              "    <tr>\n",
              "      <th>0</th>\n",
              "      <td>0.000000</td>\n",
              "      <td>0.013472</td>\n",
              "      <td>0.0</td>\n",
              "      <td>6.078</td>\n",
              "      <td>0.013472</td>\n",
              "    </tr>\n",
              "    <tr>\n",
              "      <th>1</th>\n",
              "      <td>0.000000</td>\n",
              "      <td>0.011638</td>\n",
              "      <td>0.0</td>\n",
              "      <td>5.798</td>\n",
              "      <td>0.012639</td>\n",
              "    </tr>\n",
              "    <tr>\n",
              "      <th>2</th>\n",
              "      <td>0.000000</td>\n",
              "      <td>0.010094</td>\n",
              "      <td>0.0</td>\n",
              "      <td>5.189</td>\n",
              "      <td>0.012083</td>\n",
              "    </tr>\n",
              "    <tr>\n",
              "      <th>3</th>\n",
              "      <td>0.000000</td>\n",
              "      <td>0.008788</td>\n",
              "      <td>0.0</td>\n",
              "      <td>5.422</td>\n",
              "      <td>0.011250</td>\n",
              "    </tr>\n",
              "    <tr>\n",
              "      <th>4</th>\n",
              "      <td>0.000000</td>\n",
              "      <td>0.007678</td>\n",
              "      <td>0.0</td>\n",
              "      <td>5.425</td>\n",
              "      <td>0.010694</td>\n",
              "    </tr>\n",
              "    <tr>\n",
              "      <th>...</th>\n",
              "      <td>...</td>\n",
              "      <td>...</td>\n",
              "      <td>...</td>\n",
              "      <td>...</td>\n",
              "      <td>...</td>\n",
              "    </tr>\n",
              "    <tr>\n",
              "      <th>2552</th>\n",
              "      <td>0.000203</td>\n",
              "      <td>0.002357</td>\n",
              "      <td>0.0</td>\n",
              "      <td>4.470</td>\n",
              "      <td>0.102775</td>\n",
              "    </tr>\n",
              "    <tr>\n",
              "      <th>2553</th>\n",
              "      <td>0.000169</td>\n",
              "      <td>0.002120</td>\n",
              "      <td>0.0</td>\n",
              "      <td>5.784</td>\n",
              "      <td>0.103331</td>\n",
              "    </tr>\n",
              "    <tr>\n",
              "      <th>2554</th>\n",
              "      <td>0.000143</td>\n",
              "      <td>0.001912</td>\n",
              "      <td>0.0</td>\n",
              "      <td>5.255</td>\n",
              "      <td>0.106942</td>\n",
              "    </tr>\n",
              "    <tr>\n",
              "      <th>2555</th>\n",
              "      <td>0.000120</td>\n",
              "      <td>0.001727</td>\n",
              "      <td>0.0</td>\n",
              "      <td>5.450</td>\n",
              "      <td>0.104720</td>\n",
              "    </tr>\n",
              "    <tr>\n",
              "      <th>2556</th>\n",
              "      <td>0.000100</td>\n",
              "      <td>0.001563</td>\n",
              "      <td>0.0</td>\n",
              "      <td>5.510</td>\n",
              "      <td>0.101386</td>\n",
              "    </tr>\n",
              "  </tbody>\n",
              "</table>\n",
              "<p>2557 rows × 5 columns</p>\n",
              "</div>\n",
              "    <div class=\"colab-df-buttons\">\n",
              "\n",
              "  <div class=\"colab-df-container\">\n",
              "    <button class=\"colab-df-convert\" onclick=\"convertToInteractive('df-e98c2c2a-a0dc-45cb-b77c-a27cae3c1f33')\"\n",
              "            title=\"Convert this dataframe to an interactive table.\"\n",
              "            style=\"display:none;\">\n",
              "\n",
              "  <svg xmlns=\"http://www.w3.org/2000/svg\" height=\"24px\" viewBox=\"0 -960 960 960\">\n",
              "    <path d=\"M120-120v-720h720v720H120Zm60-500h600v-160H180v160Zm220 220h160v-160H400v160Zm0 220h160v-160H400v160ZM180-400h160v-160H180v160Zm440 0h160v-160H620v160ZM180-180h160v-160H180v160Zm440 0h160v-160H620v160Z\"/>\n",
              "  </svg>\n",
              "    </button>\n",
              "\n",
              "  <style>\n",
              "    .colab-df-container {\n",
              "      display:flex;\n",
              "      gap: 12px;\n",
              "    }\n",
              "\n",
              "    .colab-df-convert {\n",
              "      background-color: #E8F0FE;\n",
              "      border: none;\n",
              "      border-radius: 50%;\n",
              "      cursor: pointer;\n",
              "      display: none;\n",
              "      fill: #1967D2;\n",
              "      height: 32px;\n",
              "      padding: 0 0 0 0;\n",
              "      width: 32px;\n",
              "    }\n",
              "\n",
              "    .colab-df-convert:hover {\n",
              "      background-color: #E2EBFA;\n",
              "      box-shadow: 0px 1px 2px rgba(60, 64, 67, 0.3), 0px 1px 3px 1px rgba(60, 64, 67, 0.15);\n",
              "      fill: #174EA6;\n",
              "    }\n",
              "\n",
              "    .colab-df-buttons div {\n",
              "      margin-bottom: 4px;\n",
              "    }\n",
              "\n",
              "    [theme=dark] .colab-df-convert {\n",
              "      background-color: #3B4455;\n",
              "      fill: #D2E3FC;\n",
              "    }\n",
              "\n",
              "    [theme=dark] .colab-df-convert:hover {\n",
              "      background-color: #434B5C;\n",
              "      box-shadow: 0px 1px 3px 1px rgba(0, 0, 0, 0.15);\n",
              "      filter: drop-shadow(0px 1px 2px rgba(0, 0, 0, 0.3));\n",
              "      fill: #FFFFFF;\n",
              "    }\n",
              "  </style>\n",
              "\n",
              "    <script>\n",
              "      const buttonEl =\n",
              "        document.querySelector('#df-e98c2c2a-a0dc-45cb-b77c-a27cae3c1f33 button.colab-df-convert');\n",
              "      buttonEl.style.display =\n",
              "        google.colab.kernel.accessAllowed ? 'block' : 'none';\n",
              "\n",
              "      async function convertToInteractive(key) {\n",
              "        const element = document.querySelector('#df-e98c2c2a-a0dc-45cb-b77c-a27cae3c1f33');\n",
              "        const dataTable =\n",
              "          await google.colab.kernel.invokeFunction('convertToInteractive',\n",
              "                                                    [key], {});\n",
              "        if (!dataTable) return;\n",
              "\n",
              "        const docLinkHtml = 'Like what you see? Visit the ' +\n",
              "          '<a target=\"_blank\" href=https://colab.research.google.com/notebooks/data_table.ipynb>data table notebook</a>'\n",
              "          + ' to learn more about interactive tables.';\n",
              "        element.innerHTML = '';\n",
              "        dataTable['output_type'] = 'display_data';\n",
              "        await google.colab.output.renderOutput(dataTable, element);\n",
              "        const docLink = document.createElement('div');\n",
              "        docLink.innerHTML = docLinkHtml;\n",
              "        element.appendChild(docLink);\n",
              "      }\n",
              "    </script>\n",
              "  </div>\n",
              "\n",
              "\n",
              "    <div id=\"df-287f9659-b556-45b9-bf82-3b2d4a65b2d7\">\n",
              "      <button class=\"colab-df-quickchart\" onclick=\"quickchart('df-287f9659-b556-45b9-bf82-3b2d4a65b2d7')\"\n",
              "                title=\"Suggest charts\"\n",
              "                style=\"display:none;\">\n",
              "\n",
              "<svg xmlns=\"http://www.w3.org/2000/svg\" height=\"24px\"viewBox=\"0 0 24 24\"\n",
              "     width=\"24px\">\n",
              "    <g>\n",
              "        <path d=\"M19 3H5c-1.1 0-2 .9-2 2v14c0 1.1.9 2 2 2h14c1.1 0 2-.9 2-2V5c0-1.1-.9-2-2-2zM9 17H7v-7h2v7zm4 0h-2V7h2v10zm4 0h-2v-4h2v4z\"/>\n",
              "    </g>\n",
              "</svg>\n",
              "      </button>\n",
              "\n",
              "<style>\n",
              "  .colab-df-quickchart {\n",
              "      --bg-color: #E8F0FE;\n",
              "      --fill-color: #1967D2;\n",
              "      --hover-bg-color: #E2EBFA;\n",
              "      --hover-fill-color: #174EA6;\n",
              "      --disabled-fill-color: #AAA;\n",
              "      --disabled-bg-color: #DDD;\n",
              "  }\n",
              "\n",
              "  [theme=dark] .colab-df-quickchart {\n",
              "      --bg-color: #3B4455;\n",
              "      --fill-color: #D2E3FC;\n",
              "      --hover-bg-color: #434B5C;\n",
              "      --hover-fill-color: #FFFFFF;\n",
              "      --disabled-bg-color: #3B4455;\n",
              "      --disabled-fill-color: #666;\n",
              "  }\n",
              "\n",
              "  .colab-df-quickchart {\n",
              "    background-color: var(--bg-color);\n",
              "    border: none;\n",
              "    border-radius: 50%;\n",
              "    cursor: pointer;\n",
              "    display: none;\n",
              "    fill: var(--fill-color);\n",
              "    height: 32px;\n",
              "    padding: 0;\n",
              "    width: 32px;\n",
              "  }\n",
              "\n",
              "  .colab-df-quickchart:hover {\n",
              "    background-color: var(--hover-bg-color);\n",
              "    box-shadow: 0 1px 2px rgba(60, 64, 67, 0.3), 0 1px 3px 1px rgba(60, 64, 67, 0.15);\n",
              "    fill: var(--button-hover-fill-color);\n",
              "  }\n",
              "\n",
              "  .colab-df-quickchart-complete:disabled,\n",
              "  .colab-df-quickchart-complete:disabled:hover {\n",
              "    background-color: var(--disabled-bg-color);\n",
              "    fill: var(--disabled-fill-color);\n",
              "    box-shadow: none;\n",
              "  }\n",
              "\n",
              "  .colab-df-spinner {\n",
              "    border: 2px solid var(--fill-color);\n",
              "    border-color: transparent;\n",
              "    border-bottom-color: var(--fill-color);\n",
              "    animation:\n",
              "      spin 1s steps(1) infinite;\n",
              "  }\n",
              "\n",
              "  @keyframes spin {\n",
              "    0% {\n",
              "      border-color: transparent;\n",
              "      border-bottom-color: var(--fill-color);\n",
              "      border-left-color: var(--fill-color);\n",
              "    }\n",
              "    20% {\n",
              "      border-color: transparent;\n",
              "      border-left-color: var(--fill-color);\n",
              "      border-top-color: var(--fill-color);\n",
              "    }\n",
              "    30% {\n",
              "      border-color: transparent;\n",
              "      border-left-color: var(--fill-color);\n",
              "      border-top-color: var(--fill-color);\n",
              "      border-right-color: var(--fill-color);\n",
              "    }\n",
              "    40% {\n",
              "      border-color: transparent;\n",
              "      border-right-color: var(--fill-color);\n",
              "      border-top-color: var(--fill-color);\n",
              "    }\n",
              "    60% {\n",
              "      border-color: transparent;\n",
              "      border-right-color: var(--fill-color);\n",
              "    }\n",
              "    80% {\n",
              "      border-color: transparent;\n",
              "      border-right-color: var(--fill-color);\n",
              "      border-bottom-color: var(--fill-color);\n",
              "    }\n",
              "    90% {\n",
              "      border-color: transparent;\n",
              "      border-bottom-color: var(--fill-color);\n",
              "    }\n",
              "  }\n",
              "</style>\n",
              "\n",
              "      <script>\n",
              "        async function quickchart(key) {\n",
              "          const quickchartButtonEl =\n",
              "            document.querySelector('#' + key + ' button');\n",
              "          quickchartButtonEl.disabled = true;  // To prevent multiple clicks.\n",
              "          quickchartButtonEl.classList.add('colab-df-spinner');\n",
              "          try {\n",
              "            const charts = await google.colab.kernel.invokeFunction(\n",
              "                'suggestCharts', [key], {});\n",
              "          } catch (error) {\n",
              "            console.error('Error during call to suggestCharts:', error);\n",
              "          }\n",
              "          quickchartButtonEl.classList.remove('colab-df-spinner');\n",
              "          quickchartButtonEl.classList.add('colab-df-quickchart-complete');\n",
              "        }\n",
              "        (() => {\n",
              "          let quickchartButtonEl =\n",
              "            document.querySelector('#df-287f9659-b556-45b9-bf82-3b2d4a65b2d7 button');\n",
              "          quickchartButtonEl.style.display =\n",
              "            google.colab.kernel.accessAllowed ? 'block' : 'none';\n",
              "        })();\n",
              "      </script>\n",
              "    </div>\n",
              "\n",
              "  <div id=\"id_725d4c4d-186d-4a7c-b296-711c9a19bc4f\">\n",
              "    <style>\n",
              "      .colab-df-generate {\n",
              "        background-color: #E8F0FE;\n",
              "        border: none;\n",
              "        border-radius: 50%;\n",
              "        cursor: pointer;\n",
              "        display: none;\n",
              "        fill: #1967D2;\n",
              "        height: 32px;\n",
              "        padding: 0 0 0 0;\n",
              "        width: 32px;\n",
              "      }\n",
              "\n",
              "      .colab-df-generate:hover {\n",
              "        background-color: #E2EBFA;\n",
              "        box-shadow: 0px 1px 2px rgba(60, 64, 67, 0.3), 0px 1px 3px 1px rgba(60, 64, 67, 0.15);\n",
              "        fill: #174EA6;\n",
              "      }\n",
              "\n",
              "      [theme=dark] .colab-df-generate {\n",
              "        background-color: #3B4455;\n",
              "        fill: #D2E3FC;\n",
              "      }\n",
              "\n",
              "      [theme=dark] .colab-df-generate:hover {\n",
              "        background-color: #434B5C;\n",
              "        box-shadow: 0px 1px 3px 1px rgba(0, 0, 0, 0.15);\n",
              "        filter: drop-shadow(0px 1px 2px rgba(0, 0, 0, 0.3));\n",
              "        fill: #FFFFFF;\n",
              "      }\n",
              "    </style>\n",
              "    <button class=\"colab-df-generate\" onclick=\"generateWithVariable('data_Xy')\"\n",
              "            title=\"Generate code using this dataframe.\"\n",
              "            style=\"display:none;\">\n",
              "\n",
              "  <svg xmlns=\"http://www.w3.org/2000/svg\" height=\"24px\"viewBox=\"0 0 24 24\"\n",
              "       width=\"24px\">\n",
              "    <path d=\"M7,19H8.4L18.45,9,17,7.55,7,17.6ZM5,21V16.75L18.45,3.32a2,2,0,0,1,2.83,0l1.4,1.43a1.91,1.91,0,0,1,.58,1.4,1.91,1.91,0,0,1-.58,1.4L9.25,21ZM18.45,9,17,7.55Zm-12,3A5.31,5.31,0,0,0,4.9,8.1,5.31,5.31,0,0,0,1,6.5,5.31,5.31,0,0,0,4.9,4.9,5.31,5.31,0,0,0,6.5,1,5.31,5.31,0,0,0,8.1,4.9,5.31,5.31,0,0,0,12,6.5,5.46,5.46,0,0,0,6.5,12Z\"/>\n",
              "  </svg>\n",
              "    </button>\n",
              "    <script>\n",
              "      (() => {\n",
              "      const buttonEl =\n",
              "        document.querySelector('#id_725d4c4d-186d-4a7c-b296-711c9a19bc4f button.colab-df-generate');\n",
              "      buttonEl.style.display =\n",
              "        google.colab.kernel.accessAllowed ? 'block' : 'none';\n",
              "\n",
              "      buttonEl.onclick = () => {\n",
              "        google.colab.notebook.generateWithVariable('data_Xy');\n",
              "      }\n",
              "      })();\n",
              "    </script>\n",
              "  </div>\n",
              "\n",
              "    </div>\n",
              "  </div>\n"
            ],
            "application/vnd.google.colaboratory.intrinsic+json": {
              "type": "dataframe",
              "variable_name": "data_Xy",
              "summary": "{\n  \"name\": \"data_Xy\",\n  \"rows\": 2557,\n  \"fields\": [\n    {\n      \"column\": \"perc_t\",\n      \"properties\": {\n        \"dtype\": \"number\",\n        \"std\": 0.6676880594320957,\n        \"min\": 0.0,\n        \"max\": 2.567744004575927,\n        \"num_unique_values\": 2534,\n        \"samples\": [\n          0.20084169500272925,\n          0.8626504452283199,\n          1.1563170417381559\n        ],\n        \"semantic_type\": \"\",\n        \"description\": \"\"\n      }\n    },\n    {\n      \"column\": \"Qsim_t\",\n      \"properties\": {\n        \"dtype\": \"number\",\n        \"std\": 4.88524153476068,\n        \"min\": 2.4138032361484637e-06,\n        \"max\": 55.256440089197355,\n        \"num_unique_values\": 2557,\n        \"samples\": [\n          0.02303122913488531,\n          0.11337262202513478,\n          1.7265799588707216\n        ],\n        \"semantic_type\": \"\",\n        \"description\": \"\"\n      }\n    },\n    {\n      \"column\": \"prec_t\",\n      \"properties\": {\n        \"dtype\": \"number\",\n        \"std\": 8.471597578062113,\n        \"min\": 0.0,\n        \"max\": 92.003196,\n        \"num_unique_values\": 585,\n        \"samples\": [\n          28.12682,\n          8.4625293,\n          4.5405775\n        ],\n        \"semantic_type\": \"\",\n        \"description\": \"\"\n      }\n    },\n    {\n      \"column\": \"pet_t\",\n      \"properties\": {\n        \"dtype\": \"number\",\n        \"std\": 1.5846025643192219,\n        \"min\": 0.835,\n        \"max\": 7.003,\n        \"num_unique_values\": 1958,\n        \"samples\": [\n          1.04,\n          1.831,\n          3.054\n        ],\n        \"semantic_type\": \"\",\n        \"description\": \"\"\n      }\n    },\n    {\n      \"column\": \"target_t+0\",\n      \"properties\": {\n        \"dtype\": \"number\",\n        \"std\": 5.638249734873375,\n        \"min\": 0.0013888552589299,\n        \"max\": 97.4976391768851,\n        \"num_unique_values\": 1428,\n        \"samples\": [\n          2.52771657125258,\n          0.0894422786750911,\n          0.741648708268613\n        ],\n        \"semantic_type\": \"\",\n        \"description\": \"\"\n      }\n    }\n  ]\n}"
            }
          },
          "metadata": {},
          "execution_count": 24
        }
      ]
    },
    {
      "cell_type": "code",
      "source": [
        "def build_1d_cnn_model(input_shape, nb_filters=64, kernel_size=1, pool_size=1):\n",
        "    '''\n",
        "    Construction d'un modèle 1D-ConvNet avec deux couches Conv1D\n",
        "    '''\n",
        "    model = Sequential()\n",
        "\n",
        "    # Première couche Conv1D\n",
        "    model.add(Conv1D(filters=nb_filters, kernel_size=kernel_size, activation='relu', input_shape=input_shape))\n",
        "    model.add(MaxPooling1D(pool_size=pool_size))\n",
        "\n",
        "    # Flatten avant la couche Dense\n",
        "    model.add(Flatten())\n",
        "\n",
        "    # Couche Dense de sortie\n",
        "    model.add(Dense(units=1))\n",
        "\n",
        "    # Compilation du modèle\n",
        "    model.compile(loss='mse', optimizer='adam')\n",
        "\n",
        "    return model\n",
        "\n",
        "\n",
        "def train_model(model, train_X, train_y, test_X, test_y, epochs=200, batch_size=256, verbose=0):\n",
        "#def train_model(model, train_X, train_y, test_X, test_y, epochs=150, batch_size=128, verbose=0):\n",
        "    '''\n",
        "    Fonction générique pour entraîner le modèle\n",
        "    '''\n",
        "    history = model.fit(train_X, train_y, epochs=epochs, batch_size=batch_size, validation_data=(test_X, test_y), verbose=verbose, shuffle=True)\n",
        "    plt.plot(history.history['loss'], label='train')\n",
        "    plt.plot(history.history['val_loss'], label='test')\n",
        "    plt.legend()\n",
        "    plt.show()"
      ],
      "metadata": {
        "id": "Zda08knpu1xD"
      },
      "execution_count": 25,
      "outputs": []
    },
    {
      "cell_type": "markdown",
      "source": [
        "Simulation with Scaling data"
      ],
      "metadata": {
        "id": "nefYtmcO_pui"
      }
    },
    {
      "cell_type": "code",
      "source": [
        "# Normalize features\n",
        "values = data_Xy.values.astype('float32')\n",
        "scaler = MinMaxScaler(feature_range=(0, 1))\n",
        "scaled_values = scaler.fit_transform(values)\n",
        "# Create train/tests datasets from scaled_data\n",
        "scaled_train_X, scaled_train_y, scaled_test_X, scaled_test_y = split_train_test(scaled_values, 1461)"
      ],
      "metadata": {
        "id": "v2IhbMpB_uOc",
        "colab": {
          "base_uri": "https://localhost:8080/"
        },
        "outputId": "ec96adcb-a2b3-4866-d12d-6bb1654bcdab"
      },
      "execution_count": 26,
      "outputs": [
        {
          "output_type": "stream",
          "name": "stdout",
          "text": [
            "(1461, 1, 4) (1461,) (1096, 1, 4) (1096,)\n"
          ]
        }
      ]
    },
    {
      "cell_type": "code",
      "source": [
        "# Build and train the model\n",
        "input_shape=(scaled_train_X.shape[1], scaled_train_X.shape[2])\n",
        "# Build and train the model using the build_lstm_model (new instance name lstm_model_scaled)\n",
        "Con_lstm_model_scaled = build_1d_cnn_model(input_shape, nb_filters=64, kernel_size=1, pool_size=1)\n",
        "# Train the new model using train_model method as previousely using the new scaled data\n",
        "train_model(Con_lstm_model_scaled, scaled_train_X, scaled_train_y, scaled_test_X, scaled_test_y)"
      ],
      "metadata": {
        "id": "cNsdkcz5_4jk",
        "colab": {
          "base_uri": "https://localhost:8080/",
          "height": 490
        },
        "outputId": "2eec6f21-cfd4-4b5a-df93-41aeb3e3b6e1"
      },
      "execution_count": 27,
      "outputs": [
        {
          "output_type": "stream",
          "name": "stderr",
          "text": [
            "/usr/local/lib/python3.11/dist-packages/keras/src/layers/convolutional/base_conv.py:107: UserWarning: Do not pass an `input_shape`/`input_dim` argument to a layer. When using Sequential models, prefer using an `Input(shape)` object as the first layer in the model instead.\n",
            "  super().__init__(activity_regularizer=activity_regularizer, **kwargs)\n"
          ]
        },
        {
          "output_type": "display_data",
          "data": {
            "text/plain": [
              "<Figure size 640x480 with 1 Axes>"
            ],
            "image/png": "[encoded data removed]"
          },
          "metadata": {}
        }
      ]
    },
    {
      "cell_type": "code",
      "source": [
        "# invert scaling for forecast\n",
        "def invert_scaling(scaled_X, scaled_yhat):\n",
        "  scaled_tX = scaled_X.reshape((scaled_X.shape[0], scaled_X.shape[2]))\n",
        "  Xyat = concatenate((scaled_tX, scaled_yhat.reshape(-1,1)), axis=1)\n",
        "  inv_Xyat = scaler.inverse_transform(Xyat)\n",
        "  return inv_Xyat[:,-1]\n"
      ],
      "metadata": {
        "id": "hjTRI6EL_8I-"
      },
      "execution_count": 28,
      "outputs": []
    },
    {
      "cell_type": "code",
      "source": [
        "# make a prediction on train\n",
        "sca_train_pred_yhat = Con_lstm_model_scaled.predict(scaled_train_X)\n",
        "#\n",
        "sca_inv_yhat = invert_scaling(scaled_train_X, sca_train_pred_yhat)"
      ],
      "metadata": {
        "colab": {
          "base_uri": "https://localhost:8080/"
        },
        "id": "mrFzEv07XLNS",
        "outputId": "5912af7d-ee25-4456-f420-65b212657f64"
      },
      "execution_count": 29,
      "outputs": [
        {
          "output_type": "stream",
          "name": "stdout",
          "text": [
            "\u001b[1m46/46\u001b[0m \u001b[32m━━━━━━━━━━━━━━━━━━━━\u001b[0m\u001b[37m\u001b[0m \u001b[1m0s\u001b[0m 2ms/step\n"
          ]
        }
      ]
    },
    {
      "cell_type": "code",
      "source": [
        "# Trianing Performance evaluation\n",
        "sca_train_pred_flat = sca_inv_yhat.flatten()\n",
        "\n",
        "nse_value = nash_sutcliffe_efficiency(discharge[1:], sca_train_pred_flat[1:])\n",
        "print(\"Nash-Sutcliffe Efficiency (NSE):\", nse_value)\n",
        "\n",
        "rmse = calculate_rmse(discharge[1:], sca_train_pred_flat[1:])\n",
        "print('RMSE =', rmse)\n",
        "\n",
        "r2 = calculate_r2(discharge[1:], sca_train_pred_flat[1:])\n",
        "print('R² =', r2)"
      ],
      "metadata": {
        "colab": {
          "base_uri": "https://localhost:8080/"
        },
        "id": "3LwksNS7XL6D",
        "outputId": "98fe7495-d5a7-4a98-ca3a-0f97a33d3cc5"
      },
      "execution_count": 30,
      "outputs": [
        {
          "output_type": "stream",
          "name": "stdout",
          "text": [
            "Nash-Sutcliffe Efficiency (NSE): 0.8628185506525151\n",
            "RMSE = 2.314535542767298\n",
            "R² = 0.8629780661860932\n"
          ]
        }
      ]
    },
    {
      "cell_type": "code",
      "source": [
        "# make a prediction on test\n",
        "sca_test_pred_yhat = Con_lstm_model_scaled.predict(scaled_test_X)\n",
        "#\n",
        "sca_inv_yhat = invert_scaling(scaled_test_X, sca_test_pred_yhat)"
      ],
      "metadata": {
        "id": "L_QCckGUA9j8",
        "colab": {
          "base_uri": "https://localhost:8080/"
        },
        "outputId": "544b1fba-3611-49a5-a691-dd835d2b542f"
      },
      "execution_count": 31,
      "outputs": [
        {
          "output_type": "stream",
          "name": "stdout",
          "text": [
            "\u001b[1m35/35\u001b[0m \u001b[32m━━━━━━━━━━━━━━━━━━━━\u001b[0m\u001b[37m\u001b[0m \u001b[1m0s\u001b[0m 1ms/step \n"
          ]
        }
      ]
    },
    {
      "cell_type": "code",
      "source": [
        "# Validation Performance evaluation\n",
        "sca_test_pred_flat = sca_inv_yhat.flatten()\n",
        "\n",
        "nse_value = nash_sutcliffe_efficiency(discharge1[1:], sca_test_pred_flat[1:])\n",
        "print(\"Nash-Sutcliffe Efficiency (NSE):\", nse_value)\n",
        "\n",
        "rmse = calculate_rmse(discharge1[1:], sca_test_pred_flat[1:])\n",
        "print('RMSE =', rmse)\n",
        "\n",
        "r2 = calculate_r2(discharge1[1:], sca_test_pred_flat[1:])\n",
        "print('R² =', r2)"
      ],
      "metadata": {
        "colab": {
          "base_uri": "https://localhost:8080/"
        },
        "id": "iHMA1XxSA5Am",
        "outputId": "aac5d7ec-28f4-4151-a4aa-c0712712bb7d"
      },
      "execution_count": 32,
      "outputs": [
        {
          "output_type": "stream",
          "name": "stdout",
          "text": [
            "Nash-Sutcliffe Efficiency (NSE): 0.8053743481284448\n",
            "RMSE = 2.0699308785565957\n",
            "R² = 0.8561746303374732\n"
          ]
        }
      ]
    },
    {
      "cell_type": "code",
      "source": [
        "# Generate dates from 2023-01-01 to 2025-12-31\n",
        "time1 = np.datetime64('2023-01-01')\n",
        "time2 = np.datetime64('2025-12-31')\n",
        "time = np.arange(time1, time2 + np.timedelta64(1, 'D'), dtype='datetime64[D]')\n",
        "\n",
        "# Create a figure and axis\n",
        "fig, ax = plt.subplots(figsize=(11., 3.5))\n",
        "\n",
        "# Set background color\n",
        "fig.patch.set_facecolor('#f0f0f0')\n",
        "ax.set_facecolor('#f0f0f0')\n",
        "\n",
        "# Plot observed and simulated runoff\n",
        "ax.plot(time, discharge1, 'b', label='Qobs')\n",
        "ax.plot(time, sca_test_pred_flat, 'magenta', label='GR4J-HyMoLAP-CNN')\n",
        "\n",
        "# Configure x-axis (date format)\n",
        "ax.xaxis.set_major_formatter(mdates.DateFormatter('%Y-%m'))\n",
        "ax.xaxis.set_major_locator(mdates.MonthLocator(bymonth=[1, 7]))\n",
        "plt.xticks(rotation=45)\n",
        "ax.set_xlabel('Date [day]')\n",
        "\n",
        "# Configure y-axis\n",
        "ax.set_ylabel('Runoff [mm/day]')\n",
        "ax.tick_params(axis='y', labelcolor='black')\n",
        "ax.set_ylim(-5, 100)\n",
        "ax.set_yticks(np.arange(0, 101, 30))\n",
        "\n",
        "# Add legend\n",
        "ax.legend(loc='upper left')\n",
        "\n",
        "# Show grid (commented out)\n",
        "# plt.grid(True)\n",
        "\n",
        "# Adjust layout to avoid overlap\n",
        "plt.tight_layout()\n",
        "\n",
        "# Save figure with high resolution\n",
        "plt.savefig(\"Cauqueness_GR4J-HyMoLAP-CNN.jpeg\", format='jpeg', dpi=700)\n",
        "\n",
        "# Uncomment to download the file in Colab environment\n",
        "# files.download(\"Cauqueness_GR4J-HyMoLAP-CNN.jpeg\")\n",
        "\n",
        "# Display the plot\n",
        "plt.show()\n"
      ],
      "metadata": {
        "colab": {
          "base_uri": "https://localhost:8080/",
          "height": 357
        },
        "id": "3aPc2W4jZEXS",
        "outputId": "2f0f6a71-aba9-4a00-f904-b9ae3b375fc1"
      },
      "execution_count": 33,
      "outputs": [
        {
          "output_type": "display_data",
          "data": {
            "text/plain": [
              "<Figure size 1100x350 with 1 Axes>"
            ],
            "image/png": "[encoded data removed]"
          },
          "metadata": {}
        }
      ]
    }
  ],
  "metadata": {
    "colab": {
      "provenance": []
    },
    "kernelspec": {
      "display_name": "Python 3",
      "name": "python3"
    },
    "language_info": {
      "codemirror_mode": {
        "name": "ipython",
        "version": 3
      },
      "file_extension": ".py",
      "mimetype": "text/x-python",
      "name": "python",
      "nbconvert_exporter": "python",
      "pygments_lexer": "ipython3",
      "version": "3.11.2"
    }
  },
  "nbformat": 4,
  "nbformat_minor": 0
}